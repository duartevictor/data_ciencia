{
 "cells": [
  {
   "cell_type": "markdown",
   "id": "5fc6cedf",
   "metadata": {},
   "source": [
    "### conceito\n",
    "\n",
    "O **K-Means** é um algoritmo de clusterização particional, o que quer dizer que divide os dados em grupos onde os dados são similares entre si e diferem dos outros grupos. Funciona realocando os centróides (posição média dos dados) dos cluster's de forma iterativa:\n",
    "\n",
    "    1 - após a escolha do k, o algoritmo define aleatoriamente um centróide para cada cluster (o centróide pode ser um dos pontos);\n",
    "    2 - calcula-se a distância de todos os pontos para cada centróide;\n",
    "    3 - cada ponto é associado ao centróide mais próximo;\n",
    "    4 - a média da posição dos pontos associados ao mesmo centróide é calculada e o centróide é reposicionado para o local que representa a média dos pontos;\n",
    "    5 - repete-se o cálculo da distância de cada ponto aos centróides;\n",
    "    6 - a associação de pontos aos centróides e o reposicionamento do centróide são feitos novamente até que não haja mais alterações ou até que o número máximo de iterações definido seja alcançado.\n",
    "    \n",
    "Um dos problemas da inicialização dos centróides é que, como os centróides são definidos de forma aleatória, algumas inicializações podem fazer com que o agrupamento não seja o ótimo, trocando os pontos de cluster a depender da posição dos centróides (quando dois centróides são muito próximos, por exemplo). Existe um método de inicialização chamado **K-Means++** em que a ideia é tentar fazer uma escolha dos novos centróides distantes dos centróides já existentes. Calcula-se a distância de cada ponto para os centróides existentes, seleciona a menor distância entre os pontos e o centróide (por exemplo, a distância de um ponto para o centróide 1 é 0.15 e para o centróide 2 é 0.40, então computa a distância 0.15) e escolhe-se o novo centróide aleatoriamente, com base em um cálculo de probabilidade (a probabilidade de um ponto ser o novo centróide é calculada com base na distância desse ponto ao centróide dividida pela soma das distâncias de todos os pontos ao centróide (um ponto que está muito perto do centróide já existente receberá uma probabilidade muito baixa de ser escolhida como o novo centróide)).\n",
    "\n",
    "A escolha do k pode ser feita com o **elbow method**: Para cada k, calcula-se a distância das coordenadas de cada ponto pertencente ao cluster para o centróide e eleva ao quadrado (WCSS – Within Cluster Sum of Squares). Quanto maior o valor, menos a ver o conjunto de pontos tem com o centróide. A ideia é minimizar a variância dos pontos em relação ao centróide. Onde o gráfico \"dobra” está indicado o melhor k.\n",
    "\n",
    "A **silhueta** é uma métrica que varia entre 0 e 1. Quando maior o valor, melhor. Valores próximos a 1 indicam clusters claros enquanto próximos de 0 implicam que os clusters se sobrepõe. O cálculo é feito por uma relação entre a média intracluster e a média intercluster."
   ]
  },
  {
   "cell_type": "code",
   "execution_count": 1,
   "id": "ebc1df31",
   "metadata": {},
   "outputs": [],
   "source": [
    "import pandas as pd\n",
    "from sklearn import datasets\n",
    "from sklearn.cluster import KMeans\n",
    "import matplotlib.pyplot as plt"
   ]
  },
  {
   "cell_type": "code",
   "execution_count": 2,
   "id": "fd15bfe9",
   "metadata": {},
   "outputs": [
    {
     "name": "stdout",
     "output_type": "stream",
     "text": [
      "<class 'pandas.core.frame.DataFrame'>\n",
      "RangeIndex: 150 entries, 0 to 149\n",
      "Data columns (total 4 columns):\n",
      " #   Column             Non-Null Count  Dtype  \n",
      "---  ------             --------------  -----  \n",
      " 0   sepal length (cm)  150 non-null    float64\n",
      " 1   sepal width (cm)   150 non-null    float64\n",
      " 2   petal length (cm)  150 non-null    float64\n",
      " 3   petal width (cm)   150 non-null    float64\n",
      "dtypes: float64(4)\n",
      "memory usage: 4.8 KB\n"
     ]
    }
   ],
   "source": [
    "# carregando e lendo dataset\n",
    "\n",
    "iris = datasets.load_iris()\n",
    "iris = pd.DataFrame(iris.data, columns = iris.feature_names)\n",
    "iris.info()"
   ]
  },
  {
   "cell_type": "code",
   "execution_count": 3,
   "id": "776c4acc",
   "metadata": {},
   "outputs": [],
   "source": [
    "# renomeando colunas\n",
    "\n",
    "iris.rename(columns = {'sepal length (cm)':'sepal_length',\n",
    "                             'sepal width (cm)':'sepal_width'}, inplace = True)"
   ]
  },
  {
   "cell_type": "code",
   "execution_count": 4,
   "id": "e369feb5",
   "metadata": {},
   "outputs": [
    {
     "data": {
      "text/plain": [
       "KMeans(init='random', n_clusters=3)"
      ]
     },
     "execution_count": 4,
     "metadata": {},
     "output_type": "execute_result"
    }
   ],
   "source": [
    "# inicializar e rodar algoritmo\n",
    "\n",
    "kmeans = KMeans(n_clusters = 3, init = 'random')\n",
    "kmeans.fit(iris)"
   ]
  },
  {
   "cell_type": "code",
   "execution_count": 5,
   "id": "12e15622",
   "metadata": {},
   "outputs": [
    {
     "data": {
      "text/plain": [
       "array([[5.006     , 3.428     , 1.462     , 0.246     ],\n",
       "       [6.85      , 3.07368421, 5.74210526, 2.07105263],\n",
       "       [5.9016129 , 2.7483871 , 4.39354839, 1.43387097]])"
      ]
     },
     "execution_count": 5,
     "metadata": {},
     "output_type": "execute_result"
    }
   ],
   "source": [
    "# seleciona os centróides\n",
    "kmeans.cluster_centers_"
   ]
  },
  {
   "cell_type": "code",
   "execution_count": 6,
   "id": "eb925326",
   "metadata": {},
   "outputs": [
    {
     "data": {
      "text/plain": [
       "array([0, 0, 0, 0, 0, 0, 0, 0, 0, 0, 0, 0, 0, 0, 0, 0, 0, 0, 0, 0, 0, 0,\n",
       "       0, 0, 0, 0, 0, 0, 0, 0, 0, 0, 0, 0, 0, 0, 0, 0, 0, 0, 0, 0, 0, 0,\n",
       "       0, 0, 0, 0, 0, 0, 2, 2, 1, 2, 2, 2, 2, 2, 2, 2, 2, 2, 2, 2, 2, 2,\n",
       "       2, 2, 2, 2, 2, 2, 2, 2, 2, 2, 2, 1, 2, 2, 2, 2, 2, 2, 2, 2, 2, 2,\n",
       "       2, 2, 2, 2, 2, 2, 2, 2, 2, 2, 2, 2, 1, 2, 1, 1, 1, 1, 2, 1, 1, 1,\n",
       "       1, 1, 1, 2, 2, 1, 1, 1, 1, 2, 1, 2, 1, 2, 1, 1, 2, 2, 1, 1, 1, 1,\n",
       "       1, 2, 1, 1, 1, 1, 2, 1, 1, 1, 2, 1, 1, 1, 2, 1, 1, 2])"
      ]
     },
     "execution_count": 6,
     "metadata": {},
     "output_type": "execute_result"
    }
   ],
   "source": [
    "# retorna o cluster que foi atribuido a cada variável\n",
    "\n",
    "labels = kmeans.labels_\n",
    "labels"
   ]
  },
  {
   "cell_type": "code",
   "execution_count": 7,
   "id": "4bab1ef6",
   "metadata": {},
   "outputs": [
    {
     "data": {
      "text/html": [
       "<div>\n",
       "<style scoped>\n",
       "    .dataframe tbody tr th:only-of-type {\n",
       "        vertical-align: middle;\n",
       "    }\n",
       "\n",
       "    .dataframe tbody tr th {\n",
       "        vertical-align: top;\n",
       "    }\n",
       "\n",
       "    .dataframe thead th {\n",
       "        text-align: right;\n",
       "    }\n",
       "</style>\n",
       "<table border=\"1\" class=\"dataframe\">\n",
       "  <thead>\n",
       "    <tr style=\"text-align: right;\">\n",
       "      <th></th>\n",
       "      <th>sepal_length</th>\n",
       "      <th>sepal_width</th>\n",
       "      <th>petal length (cm)</th>\n",
       "      <th>petal width (cm)</th>\n",
       "      <th>cluster</th>\n",
       "    </tr>\n",
       "  </thead>\n",
       "  <tbody>\n",
       "    <tr>\n",
       "      <th>0</th>\n",
       "      <td>5.1</td>\n",
       "      <td>3.5</td>\n",
       "      <td>1.4</td>\n",
       "      <td>0.2</td>\n",
       "      <td>0</td>\n",
       "    </tr>\n",
       "    <tr>\n",
       "      <th>1</th>\n",
       "      <td>4.9</td>\n",
       "      <td>3.0</td>\n",
       "      <td>1.4</td>\n",
       "      <td>0.2</td>\n",
       "      <td>0</td>\n",
       "    </tr>\n",
       "    <tr>\n",
       "      <th>2</th>\n",
       "      <td>4.7</td>\n",
       "      <td>3.2</td>\n",
       "      <td>1.3</td>\n",
       "      <td>0.2</td>\n",
       "      <td>0</td>\n",
       "    </tr>\n",
       "    <tr>\n",
       "      <th>3</th>\n",
       "      <td>4.6</td>\n",
       "      <td>3.1</td>\n",
       "      <td>1.5</td>\n",
       "      <td>0.2</td>\n",
       "      <td>0</td>\n",
       "    </tr>\n",
       "    <tr>\n",
       "      <th>4</th>\n",
       "      <td>5.0</td>\n",
       "      <td>3.6</td>\n",
       "      <td>1.4</td>\n",
       "      <td>0.2</td>\n",
       "      <td>0</td>\n",
       "    </tr>\n",
       "  </tbody>\n",
       "</table>\n",
       "</div>"
      ],
      "text/plain": [
       "   sepal_length  sepal_width  petal length (cm)  petal width (cm)  cluster\n",
       "0           5.1          3.5                1.4               0.2        0\n",
       "1           4.9          3.0                1.4               0.2        0\n",
       "2           4.7          3.2                1.3               0.2        0\n",
       "3           4.6          3.1                1.5               0.2        0\n",
       "4           5.0          3.6                1.4               0.2        0"
      ]
     },
     "execution_count": 7,
     "metadata": {},
     "output_type": "execute_result"
    }
   ],
   "source": [
    "iris['cluster'] = labels\n",
    "iris.head()"
   ]
  },
  {
   "cell_type": "code",
   "execution_count": 8,
   "id": "4db9f3cd",
   "metadata": {},
   "outputs": [
    {
     "data": {
      "image/png": "[encoded data removed]",
      "text/plain": [
       "<Figure size 432x288 with 1 Axes>"
      ]
     },
     "metadata": {
      "needs_background": "light"
     },
     "output_type": "display_data"
    }
   ],
   "source": [
    "# plot dos dados e dos centróides de cada cluster\n",
    "\n",
    "plt.scatter(iris.sepal_length, iris.sepal_width, s = 100, c = kmeans.labels_)\n",
    "plt.scatter(kmeans.cluster_centers_[:, 0], kmeans.cluster_centers_[:, 1], s = 300, c = 'red',label = 'Centroids')\n",
    "plt.title('Iris Clusters and Centroids')\n",
    "plt.xlabel('SepalLength')\n",
    "plt.ylabel('SepalWidth')\n",
    "plt.legend()\n",
    "\n",
    "plt.show()"
   ]
  },
  {
   "cell_type": "markdown",
   "id": "09f14576",
   "metadata": {},
   "source": [
    "O **K-Modes** é uma variação do **K-Means** e é utilizado para dados categóricos, onde o cálculo da média perde sentido. Funciona da mesma forma que o K-Means, mas em vez de usar a média para reposicionar os centróides, utiliza a moda dos dados que pertencem ao cluster.\n",
    "\n",
    "O **K-Medoids** funciona de forma similar: \n",
    "\n",
    "    1 - o algoritmo define aleatoriamente k medóides dentre os pontos do dataset (o medóide é um dos pontos do dataset);\n",
    "    2 - associa-se cada ponto ao medóide mais próximo;\n",
    "    3 - calcula-se a dissimilaridade (soma das distâncias entre as coordenadas do ponto e do medóide) entre cada ponto e o medóide e cada ponto é associado ao medóide de menor dissimilaridade;\n",
    "    4 - calcula-se o 'custo' total, isto é, a soma das dissimilaridades dos pontos para o medóide associado;\n",
    "    5 - aleatoriamente, define-se outros medóides e calcula-se o custo de associação, até que não existam mais alterações que diminuam o custo."
   ]
  }
 ],
 "metadata": {
  "kernelspec": {
   "display_name": "Python 3 (ipykernel)",
   "language": "python",
   "name": "python3"
  },
  "language_info": {
   "codemirror_mode": {
    "name": "ipython",
    "version": 3
   },
   "file_extension": ".py",
   "mimetype": "text/x-python",
   "name": "python",
   "nbconvert_exporter": "python",
   "pygments_lexer": "ipython3",
   "version": "3.9.7"
  }
 },
 "nbformat": 4,
 "nbformat_minor": 5
}
