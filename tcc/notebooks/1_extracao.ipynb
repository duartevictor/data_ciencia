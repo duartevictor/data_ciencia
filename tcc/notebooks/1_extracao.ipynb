{
 "cells": [
  {
   "cell_type": "code",
   "execution_count": 1,
   "id": "2e54fb8a",
   "metadata": {},
   "outputs": [],
   "source": [
    "# lib's base \n",
    "\n",
    "import pandas as pd\n",
    "import numpy as np\n",
    "import matplotlib.pyplot as plt\n",
    "import seaborn as sns\n",
    "\n",
    "# lib's de extração de dados\n",
    "from pytrends.request import TrendReq\n",
    "import snscrape.modules.twitter as sntwitter\n",
    "\n",
    "import warnings\n",
    "warnings.filterwarnings('ignore')\n",
    "pd.set_option('display.max_columns', None)"
   ]
  },
  {
   "cell_type": "markdown",
   "id": "022cfda0",
   "metadata": {},
   "source": [
    "## 1. extração de dados"
   ]
  },
  {
   "cell_type": "markdown",
   "id": "7ee48df5",
   "metadata": {},
   "source": [
    "### 1.1. dados do twitter"
   ]
  },
  {
   "cell_type": "code",
   "execution_count": 2,
   "id": "ad1efe46",
   "metadata": {},
   "outputs": [
    {
     "name": "stdout",
     "output_type": "stream",
     "text": [
      "Wall time: 1h 38min 14s\n"
     ]
    }
   ],
   "source": [
    "%%time\n",
    "\n",
    "###### IBOV ######\n",
    "\n",
    "lista_tweets_01 = []\n",
    "\n",
    "for i, tweet in enumerate(sntwitter.TwitterSearchScraper('IBOV since:2021-01-01 until:2021-12-31').get_items()):\n",
    "    lista_tweets_01.append([tweet.date])\n",
    "    \n",
    "df_tweets_01 = pd.DataFrame(lista_tweets_01, columns=['DATA'])\n",
    "\n",
    "###### IBOVESPA ######\n",
    "\n",
    "lista_tweets_02 = []\n",
    "\n",
    "for i, tweet in enumerate(sntwitter.TwitterSearchScraper('IBOVESPA since:2021-01-01 until:2021-12-31').get_items()):\n",
    "    lista_tweets_02.append([tweet.date])\n",
    "    \n",
    "df_tweets_02 = pd.DataFrame(lista_tweets_02, columns=['DATA'])\n",
    "\n",
    "###### BOVA11 ######\n",
    "\n",
    "lista_tweets_03 = []\n",
    "\n",
    "for i, tweet in enumerate(sntwitter.TwitterSearchScraper('BOVA11 since:2021-01-01 until:2021-12-31').get_items()):\n",
    "    lista_tweets_03.append([tweet.date])\n",
    "    \n",
    "df_tweets_03 = pd.DataFrame(lista_tweets_03, columns=['DATA'])"
   ]
  },
  {
   "cell_type": "code",
   "execution_count": 3,
   "id": "68c87192",
   "metadata": {},
   "outputs": [],
   "source": [
    "# transformar bases em séries temporais e contar citações por dia\n",
    "\n",
    "df_tweets_01['DATA'] = df_tweets_01['DATA'].dt.date\n",
    "df_tweets_01['DATA'] = pd.to_datetime(df_tweets_01['DATA'], format='%Y/%m/%d')\n",
    "df_tweets_011 = df_tweets_01.groupby(['DATA']).size().reset_index(name = 'IBOV_TWITTER')\n",
    "\n",
    "df_tweets_02['DATA'] = df_tweets_02['DATA'].dt.date\n",
    "df_tweets_02['DATA'] = pd.to_datetime(df_tweets_02['DATA'], format='%Y/%m/%d')\n",
    "df_tweets_022 = df_tweets_02.groupby(['DATA']).size().reset_index(name = 'IBOVESPA_TWITTER')\n",
    "\n",
    "df_tweets_03['DATA'] = df_tweets_03['DATA'].dt.date\n",
    "df_tweets_03['DATA'] = pd.to_datetime(df_tweets_03['DATA'], format='%Y/%m/%d')\n",
    "df_tweets_033 = df_tweets_03.groupby(['DATA']).size().reset_index(name = 'BOVA11_TWITTER')"
   ]
  },
  {
   "cell_type": "code",
   "execution_count": 4,
   "id": "c5ee1178",
   "metadata": {},
   "outputs": [
    {
     "name": "stdout",
     "output_type": "stream",
     "text": [
      "<class 'pandas.core.frame.DataFrame'>\n",
      "Int64Index: 348 entries, 0 to 347\n",
      "Data columns (total 4 columns):\n",
      " #   Column            Non-Null Count  Dtype         \n",
      "---  ------            --------------  -----         \n",
      " 0   DATA              348 non-null    datetime64[ns]\n",
      " 1   IBOV_TWITTER      348 non-null    int64         \n",
      " 2   IBOVESPA_TWITTER  348 non-null    int64         \n",
      " 3   BOVA11_TWITTER    348 non-null    int64         \n",
      "dtypes: datetime64[ns](1), int64(3)\n",
      "memory usage: 13.6 KB\n"
     ]
    }
   ],
   "source": [
    "# merge mantendo somente dias em comum\n",
    "\n",
    "df_twitter = pd.merge(df_tweets_011, df_tweets_022, how = 'inner', on = ['DATA'])\n",
    "df_twitter = pd.merge(df_twitter, df_tweets_033, how = 'inner', on = ['DATA'])\n",
    "\n",
    "df_twitter.info()"
   ]
  },
  {
   "cell_type": "code",
   "execution_count": 5,
   "id": "ffa9c1db",
   "metadata": {},
   "outputs": [],
   "source": [
    "df_twitter.to_csv('../dados/outputs/df_twitter.csv')"
   ]
  },
  {
   "cell_type": "markdown",
   "id": "1711f8bc",
   "metadata": {},
   "source": [
    "### 1.2. dados do google"
   ]
  },
  {
   "cell_type": "code",
   "execution_count": 6,
   "id": "1a25cf2e",
   "metadata": {},
   "outputs": [
    {
     "name": "stdout",
     "output_type": "stream",
     "text": [
      "<class 'pandas.core.frame.DataFrame'>\n",
      "Int64Index: 365 entries, 0 to 183\n",
      "Data columns (total 2 columns):\n",
      " #   Column           Non-Null Count  Dtype         \n",
      "---  ------           --------------  -----         \n",
      " 0   DATA             365 non-null    datetime64[ns]\n",
      " 1   IBOVESPA_GOOGLE  365 non-null    int64         \n",
      "dtypes: datetime64[ns](1), int64(1)\n",
      "memory usage: 8.6 KB\n"
     ]
    }
   ],
   "source": [
    "google_trends_01 = pd.read_csv('../dados/google_trends/trends_202101_202106.csv', skiprows=1)\n",
    "google_trends_02 = pd.read_csv('../dados/google_trends/trends_202107_202112.csv', skiprows=1)\n",
    "\n",
    "# unificação das bases\n",
    "\n",
    "df_google_trends = pd.concat([google_trends_01, google_trends_02])\n",
    "df_google_trends.rename(columns = {'IBOVESPA: (Brasil)':'IBOVESPA_GOOGLE', 'Dia':'DATA'}, inplace = True)\n",
    "df_google_trends['DATA'] = pd.to_datetime(df_google_trends['DATA'])\n",
    "\n",
    "df_google_trends.info()"
   ]
  },
  {
   "cell_type": "code",
   "execution_count": 7,
   "id": "16d8f5f3",
   "metadata": {},
   "outputs": [],
   "source": [
    "df_google_trends.to_csv('../dados/outputs/df_google_trends.csv')"
   ]
  },
  {
   "cell_type": "markdown",
   "id": "4ffa0706",
   "metadata": {},
   "source": [
    "### 1.3. dados da b3"
   ]
  },
  {
   "cell_type": "code",
   "execution_count": 8,
   "id": "6709ceaa",
   "metadata": {},
   "outputs": [],
   "source": [
    "# leitura do arquivo - dados diários de 2021\n",
    "arquivo_b3 = '../dados/b3/COTAHIST_A2021.txt'\n",
    "\n",
    "# com base no layout disponibilizado pela B3\n",
    "tamanho_campos = [2 ,8, 2, 12, 3, 12, 10, 3, 4, 13, 13, 13, 13, 13, 13, 13, 5, 18, 18, 13, 1, 8, 7, 13, 12, 3]\n",
    "\n",
    "# dataframe pandas\n",
    "dados_b3 = pd.read_fwf(arquivo_b3, widths = tamanho_campos)"
   ]
  },
  {
   "cell_type": "code",
   "execution_count": 9,
   "id": "58b3ef21",
   "metadata": {},
   "outputs": [],
   "source": [
    "# nomear colunas\n",
    "dados_b3.columns = ['tipo_registro', 'data_pregao', 'cod_bdi', 'ticker', 'tipo_mercado', 'empresa', \n",
    "                    'especificacao_papel', 'prazo_dias_merc_termo', 'moeda_referencia', 'preco_abertura', 'preco_max', \n",
    "                    'preco_min', 'preco_medio', 'preco_ultimo_negocio', 'preco_melhor_oferta_compra', \n",
    "                    'preco_melhor_oferta_venda', 'qtd_negocios', 'qtd_papeis_negociados', 'vol_total_negociado', \n",
    "                    'preco_exercicio', 'ìndicador_correcao_precos', 'data_vencimento' , 'fator_cotacao', \n",
    "                    'preco_exercicio_pontos', 'cod_isin', 'num_distribuicao_papel']\n",
    "\n",
    "# eliminar trailer do arquivo\n",
    "linha = len(dados_b3['data_pregao'])\n",
    "dados_b3 = dados_b3.drop(linha-1)\n",
    "\n",
    "# alterar tipo da data\n",
    "dados_b3['data_pregao'] = pd.to_datetime(dados_b3['data_pregao'], format='%Y/%m/%d')\n",
    "dados_b3.set_index('data_pregao', inplace = True)\n",
    "\n",
    "# ajustar valores para decimal\n",
    "lista_dec = ['preco_abertura', 'preco_max', 'preco_min', 'preco_medio', 'preco_ultimo_negocio', 'preco_melhor_oferta_compra', \n",
    "           'preco_melhor_oferta_venda', 'vol_total_negociado', 'preco_exercicio', 'preco_exercicio_pontos']\n",
    "\n",
    "for coluna in lista_dec:\n",
    "    dados_b3[coluna]=[i/100. for i in dados_b3[coluna]]"
   ]
  },
  {
   "cell_type": "code",
   "execution_count": 10,
   "id": "4b187ee4",
   "metadata": {},
   "outputs": [
    {
     "name": "stdout",
     "output_type": "stream",
     "text": [
      "(247, 25)\n"
     ]
    }
   ],
   "source": [
    "# somente BOVA11\n",
    "ticker_aux = dados_b3.loc[dados_b3['ticker'] == 'BOVA11']\n",
    "print(ticker_aux.shape)\n",
    "\n",
    "# somente as colunas \"necessárias\"\n",
    "dados_b3 = ticker_aux[['ticker', 'empresa', 'qtd_negocios', 'qtd_papeis_negociados', 'vol_total_negociado']]\n",
    "dados_b3.reset_index(inplace=True)\n",
    "dados_b3.rename(columns = {'data_pregao':'DATA', 'ticker':'TICKER', 'empresa':'EMPRESA', 'qtd_negocios':'QTD_NEGOCIOS', \n",
    "                           'qtd_papeis_negociados':'QTD_PAPEIS_NEGOCIADOS', 'vol_total_negociado':'VOL_TOTAL_NEGOCIADO'}, \n",
    "                inplace = True)"
   ]
  },
  {
   "cell_type": "code",
   "execution_count": 11,
   "id": "015e6324",
   "metadata": {},
   "outputs": [],
   "source": [
    "dados_b3.to_csv('../dados/outputs/dados_b3.csv')"
   ]
  },
  {
   "cell_type": "markdown",
   "id": "604295ce",
   "metadata": {},
   "source": [
    "## 2. construção do dataframe único e transformação em série temporal"
   ]
  },
  {
   "cell_type": "markdown",
   "id": "f29a2178",
   "metadata": {},
   "source": [
    "### 2.1. unificar df's"
   ]
  },
  {
   "cell_type": "code",
   "execution_count": 12,
   "id": "2c8c7ec6",
   "metadata": {},
   "outputs": [
    {
     "name": "stdout",
     "output_type": "stream",
     "text": [
      "quantidade de linhas/dias: 243\n",
      "<class 'pandas.core.frame.DataFrame'>\n",
      "Int64Index: 243 entries, 2 to 242\n",
      "Data columns (total 10 columns):\n",
      " #   Column                 Non-Null Count  Dtype         \n",
      "---  ------                 --------------  -----         \n",
      " 0   DATA                   243 non-null    datetime64[ns]\n",
      " 1   TICKER                 243 non-null    object        \n",
      " 2   EMPRESA                243 non-null    object        \n",
      " 3   QTD_NEGOCIOS           243 non-null    float64       \n",
      " 4   QTD_PAPEIS_NEGOCIADOS  243 non-null    float64       \n",
      " 5   VOL_TOTAL_NEGOCIADO    243 non-null    float64       \n",
      " 6   IBOVESPA_GOOGLE        243 non-null    int64         \n",
      " 7   IBOV_TWITTER           243 non-null    int64         \n",
      " 8   IBOVESPA_TWITTER       243 non-null    int64         \n",
      " 9   BOVA11_TWITTER         243 non-null    int64         \n",
      "dtypes: datetime64[ns](1), float64(3), int64(4), object(2)\n",
      "memory usage: 20.9+ KB\n"
     ]
    }
   ],
   "source": [
    "df_01 = pd.merge(dados_b3, df_google_trends, how='inner', on = ['DATA'])\n",
    "df_01 = pd.merge(df_01, df_twitter, how='inner', on = ['DATA'])\n",
    "\n",
    "df_01 = df_01.sort_values('DATA')\n",
    "print('quantidade de linhas/dias:', df_01.shape[0])\n",
    "df_01.info()"
   ]
  },
  {
   "cell_type": "markdown",
   "id": "45275398",
   "metadata": {},
   "source": [
    "### 2.2. transformar data em índice"
   ]
  },
  {
   "cell_type": "code",
   "execution_count": 13,
   "id": "0c38b1c2",
   "metadata": {},
   "outputs": [
    {
     "data": {
      "text/html": [
       "<div>\n",
       "<style scoped>\n",
       "    .dataframe tbody tr th:only-of-type {\n",
       "        vertical-align: middle;\n",
       "    }\n",
       "\n",
       "    .dataframe tbody tr th {\n",
       "        vertical-align: top;\n",
       "    }\n",
       "\n",
       "    .dataframe thead th {\n",
       "        text-align: right;\n",
       "    }\n",
       "</style>\n",
       "<table border=\"1\" class=\"dataframe\">\n",
       "  <thead>\n",
       "    <tr style=\"text-align: right;\">\n",
       "      <th></th>\n",
       "      <th>TICKER</th>\n",
       "      <th>EMPRESA</th>\n",
       "      <th>QTD_NEGOCIOS</th>\n",
       "      <th>QTD_PAPEIS_NEGOCIADOS</th>\n",
       "      <th>VOL_TOTAL_NEGOCIADO</th>\n",
       "      <th>IBOVESPA_GOOGLE</th>\n",
       "      <th>IBOV_TWITTER</th>\n",
       "      <th>IBOVESPA_TWITTER</th>\n",
       "      <th>BOVA11_TWITTER</th>\n",
       "    </tr>\n",
       "    <tr>\n",
       "      <th>DATA</th>\n",
       "      <th></th>\n",
       "      <th></th>\n",
       "      <th></th>\n",
       "      <th></th>\n",
       "      <th></th>\n",
       "      <th></th>\n",
       "      <th></th>\n",
       "      <th></th>\n",
       "      <th></th>\n",
       "    </tr>\n",
       "  </thead>\n",
       "  <tbody>\n",
       "    <tr>\n",
       "      <th>2021-01-04</th>\n",
       "      <td>BOVA11</td>\n",
       "      <td>ISHARES BOVA</td>\n",
       "      <td>41278.0</td>\n",
       "      <td>8493210.0</td>\n",
       "      <td>9.730709e+08</td>\n",
       "      <td>69</td>\n",
       "      <td>83</td>\n",
       "      <td>298</td>\n",
       "      <td>6</td>\n",
       "    </tr>\n",
       "    <tr>\n",
       "      <th>2021-01-05</th>\n",
       "      <td>BOVA11</td>\n",
       "      <td>ISHARES BOVA</td>\n",
       "      <td>2390.0</td>\n",
       "      <td>9620560.0</td>\n",
       "      <td>1.094933e+09</td>\n",
       "      <td>77</td>\n",
       "      <td>128</td>\n",
       "      <td>277</td>\n",
       "      <td>7</td>\n",
       "    </tr>\n",
       "    <tr>\n",
       "      <th>2021-01-06</th>\n",
       "      <td>BOVA11</td>\n",
       "      <td>ISHARES BOVA</td>\n",
       "      <td>666.0</td>\n",
       "      <td>9094230.0</td>\n",
       "      <td>1.049862e+09</td>\n",
       "      <td>75</td>\n",
       "      <td>104</td>\n",
       "      <td>287</td>\n",
       "      <td>7</td>\n",
       "    </tr>\n",
       "    <tr>\n",
       "      <th>2021-01-07</th>\n",
       "      <td>BOVA11</td>\n",
       "      <td>ISHARES BOVA</td>\n",
       "      <td>50022.0</td>\n",
       "      <td>9250540.0</td>\n",
       "      <td>1.081833e+09</td>\n",
       "      <td>79</td>\n",
       "      <td>182</td>\n",
       "      <td>375</td>\n",
       "      <td>14</td>\n",
       "    </tr>\n",
       "    <tr>\n",
       "      <th>2021-01-08</th>\n",
       "      <td>BOVA11</td>\n",
       "      <td>ISHARES BOVA</td>\n",
       "      <td>42698.0</td>\n",
       "      <td>11955320.0</td>\n",
       "      <td>1.427557e+09</td>\n",
       "      <td>72</td>\n",
       "      <td>224</td>\n",
       "      <td>381</td>\n",
       "      <td>18</td>\n",
       "    </tr>\n",
       "  </tbody>\n",
       "</table>\n",
       "</div>"
      ],
      "text/plain": [
       "            TICKER       EMPRESA  QTD_NEGOCIOS  QTD_PAPEIS_NEGOCIADOS  \\\n",
       "DATA                                                                    \n",
       "2021-01-04  BOVA11  ISHARES BOVA       41278.0              8493210.0   \n",
       "2021-01-05  BOVA11  ISHARES BOVA        2390.0              9620560.0   \n",
       "2021-01-06  BOVA11  ISHARES BOVA         666.0              9094230.0   \n",
       "2021-01-07  BOVA11  ISHARES BOVA       50022.0              9250540.0   \n",
       "2021-01-08  BOVA11  ISHARES BOVA       42698.0             11955320.0   \n",
       "\n",
       "            VOL_TOTAL_NEGOCIADO  IBOVESPA_GOOGLE  IBOV_TWITTER  \\\n",
       "DATA                                                             \n",
       "2021-01-04         9.730709e+08               69            83   \n",
       "2021-01-05         1.094933e+09               77           128   \n",
       "2021-01-06         1.049862e+09               75           104   \n",
       "2021-01-07         1.081833e+09               79           182   \n",
       "2021-01-08         1.427557e+09               72           224   \n",
       "\n",
       "            IBOVESPA_TWITTER  BOVA11_TWITTER  \n",
       "DATA                                          \n",
       "2021-01-04               298               6  \n",
       "2021-01-05               277               7  \n",
       "2021-01-06               287               7  \n",
       "2021-01-07               375              14  \n",
       "2021-01-08               381              18  "
      ]
     },
     "execution_count": 13,
     "metadata": {},
     "output_type": "execute_result"
    }
   ],
   "source": [
    "df_01.set_index('DATA', inplace=True)\n",
    "df_01.head()"
   ]
  },
  {
   "cell_type": "code",
   "execution_count": 14,
   "id": "18773a7f",
   "metadata": {},
   "outputs": [],
   "source": [
    "df_01.to_csv('../dados/outputs/st_variaveis.csv')"
   ]
  }
 ],
 "metadata": {
  "kernelspec": {
   "display_name": "Python 3 (ipykernel)",
   "language": "python",
   "name": "python3"
  },
  "language_info": {
   "codemirror_mode": {
    "name": "ipython",
    "version": 3
   },
   "file_extension": ".py",
   "mimetype": "text/x-python",
   "name": "python",
   "nbconvert_exporter": "python",
   "pygments_lexer": "ipython3",
   "version": "3.9.7"
  }
 },
 "nbformat": 4,
 "nbformat_minor": 5
}
