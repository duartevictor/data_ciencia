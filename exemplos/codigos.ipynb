{
 "cells": [
  {
   "cell_type": "markdown",
   "id": "cc7cb37d",
   "metadata": {},
   "source": [
    "# base"
   ]
  },
  {
   "cell_type": "code",
   "execution_count": null,
   "id": "dd4a8fb8",
   "metadata": {},
   "outputs": [],
   "source": [
    "# normalizando dados\n",
    "\n",
    "from sklearn.preprocessing import normalize\n",
    "\n",
    "data_scaled = normalize(data)\n",
    "data_scaled = pd.DataFrame(data_scaled, columns = data.columns)"
   ]
  },
  {
   "cell_type": "code",
   "execution_count": null,
   "id": "e08c514a",
   "metadata": {},
   "outputs": [],
   "source": [
    "# padronizando os dados\n",
    "\n",
    "from sklearn.preprocessing import StandardScaler\n",
    "\n",
    "sc_X = StandardScaler()\n",
    "sc_y = StandardScaler()\n",
    "\n",
    "X = sc_X.fit_transform(X)\n",
    "y = sc_y.fit_transform(y)"
   ]
  },
  {
   "cell_type": "code",
   "execution_count": null,
   "id": "ca623df2",
   "metadata": {},
   "outputs": [],
   "source": [
    "# divisão variáveis explicativas e target\n",
    "\n",
    "X = df.iloc[:, primeira_coluna:ultima_coluna]\n",
    "y = df.iloc[:, coluna_target]"
   ]
  },
  {
   "cell_type": "code",
   "execution_count": null,
   "id": "782092d6",
   "metadata": {},
   "outputs": [],
   "source": [
    "# divisão simples entre treino e teste\n",
    "\n",
    "from sklearn.model_selection import train_test_split\n",
    "\n",
    "X_train, X_test, y_train, y_test = train_test_split(explicativas, target, test_size = 0.3, random_state = 42)"
   ]
  },
  {
   "cell_type": "markdown",
   "id": "8a47046d",
   "metadata": {},
   "source": [
    "# cross validation"
   ]
  },
  {
   "cell_type": "code",
   "execution_count": null,
   "id": "396818db",
   "metadata": {},
   "outputs": [],
   "source": [
    "# para utilizar, é só incializar o algoritmo antes e passar como hiperparâmetro do cross_validate\n",
    "\n",
    "from sklearn.model_selection import cross_validate\n",
    "\n",
    "lr = LinearRegression()\n",
    "\n",
    "# quando um inteiro é passado no hiperparâmetro cv o algoritmo faz um stratified kfold (se for um modelo de classificação)\n",
    "cross_validate(lr, X, y, scoring = 'r2', cv = 3)"
   ]
  },
  {
   "cell_type": "markdown",
   "id": "47eaa662",
   "metadata": {},
   "source": [
    "# agrupamento"
   ]
  },
  {
   "cell_type": "markdown",
   "id": "bc24665f",
   "metadata": {},
   "source": [
    "### kmeans"
   ]
  },
  {
   "cell_type": "code",
   "execution_count": null,
   "id": "d499dc5d",
   "metadata": {},
   "outputs": [],
   "source": [
    "from sklearn.cluster import KMeans\n",
    "\n",
    "kmeans = KMeans(n_clusters = 3, init = 'random', max_iter = 300)\n",
    "kmeans.fit(iris)\n",
    "labels = kmeans.labels_"
   ]
  },
  {
   "cell_type": "markdown",
   "id": "6820662e",
   "metadata": {},
   "source": [
    "### clusterização hierárquica (aglomerativa)"
   ]
  },
  {
   "cell_type": "code",
   "execution_count": null,
   "id": "3cc229c7",
   "metadata": {},
   "outputs": [],
   "source": [
    "from sklearn.cluster import AgglomerativeClustering\n",
    "\n",
    "cluster = AgglomerativeClustering(n_clusters = 2, affinity = 'euclidean', linkage = 'ward')  \n",
    "cluster.fit_predict(data_scaled)"
   ]
  },
  {
   "cell_type": "markdown",
   "id": "5f199348",
   "metadata": {},
   "source": [
    "### dbscan"
   ]
  },
  {
   "cell_type": "code",
   "execution_count": null,
   "id": "d40376a4",
   "metadata": {},
   "outputs": [],
   "source": [
    "m = DBSCAN(eps = 0.3, min_samples = 5)\n",
    "m.fit(X)\n",
    "clusters = m.labels_"
   ]
  },
  {
   "cell_type": "markdown",
   "id": "f0be19c8",
   "metadata": {},
   "source": [
    "# classificação"
   ]
  },
  {
   "cell_type": "markdown",
   "id": "0913ef2c",
   "metadata": {},
   "source": [
    "### svm"
   ]
  },
  {
   "cell_type": "code",
   "execution_count": null,
   "id": "ba7afb46",
   "metadata": {},
   "outputs": [],
   "source": [
    "from sklearn import svm\n",
    "\n",
    "clf = svm.SVC(C = 0.5, kernel = 'linear', gamma = 'auto')\n",
    "\n",
    "clf.fit(X_train, y_train)\n",
    "\n",
    "# base de teste toda\n",
    "y_pred = clf.predict(X_test)\n",
    "\n",
    "# exemplo específico\n",
    "prediction = clf.predict([[0,6]])\n",
    "print(prediction)"
   ]
  },
  {
   "cell_type": "markdown",
   "id": "de744db7",
   "metadata": {},
   "source": [
    "### árvore de decisão"
   ]
  },
  {
   "cell_type": "code",
   "execution_count": null,
   "id": "40219b4d",
   "metadata": {},
   "outputs": [],
   "source": [
    "from sklearn.tree import DecisionTreeClassifier\n",
    "\n",
    "tree = DecisionTreeClassifier(criterion='entropy', max_depth=4, min_samples_split = 5, class_weight = 'balanced', random_state=1)\n",
    "tree.fit(X_train, y_train)\n",
    "y_pred = tree.predict(X_test)"
   ]
  },
  {
   "cell_type": "markdown",
   "id": "d47ef7c7",
   "metadata": {},
   "source": [
    "### random forest"
   ]
  },
  {
   "cell_type": "code",
   "execution_count": null,
   "id": "946ca483",
   "metadata": {},
   "outputs": [],
   "source": [
    "clf = RandomForestClassifier(n_estimators = 100, criterion='entropy', max_features = \"auto\", max_depth = 10, random_state = 0)\n",
    "clf.fit(X_train, y_train)\n",
    "y_pred = clf.predict(X_test)"
   ]
  },
  {
   "cell_type": "markdown",
   "id": "2dfe7e61",
   "metadata": {},
   "source": [
    "### adaboost"
   ]
  },
  {
   "cell_type": "code",
   "execution_count": null,
   "id": "5b41061f",
   "metadata": {},
   "outputs": [],
   "source": [
    "from sklearn.ensemble import AdaBoostClassifier\n",
    "\n",
    "clf = AdaBoostClassifier(n_estimators = 100)\n",
    "clf.fit(X_train, y_train)\n",
    "y_pred = clf.predict(X_test)"
   ]
  },
  {
   "cell_type": "markdown",
   "id": "ad79d574",
   "metadata": {},
   "source": [
    "### gradient boosting"
   ]
  },
  {
   "cell_type": "code",
   "execution_count": null,
   "id": "ede6ccf1",
   "metadata": {},
   "outputs": [],
   "source": [
    "from sklearn.ensemble import GradientBoostingClassifier\n",
    "\n",
    "clf = GradientBoostingClassifier(n_estimators = 100)\n",
    "clf.fit(X_train, y_train)\n",
    "y_pred = clf.predict(X_test)"
   ]
  },
  {
   "cell_type": "markdown",
   "id": "e9d21c98",
   "metadata": {},
   "source": [
    "### regressão logística"
   ]
  },
  {
   "cell_type": "code",
   "execution_count": null,
   "id": "48c74464",
   "metadata": {},
   "outputs": [],
   "source": [
    "from sklearn.linear_model import LogisticRegression\n",
    "\n",
    "logisticRegr = LogisticRegression(penalty = \"l1\", C = 1e40)\n",
    "\n",
    "fitted_model = logisticRegr.fit(X, y)\n",
    "\n",
    "# base de teste toda\n",
    "prediction_result = fitted_model.predict(x_test)"
   ]
  },
  {
   "cell_type": "markdown",
   "id": "1e397795",
   "metadata": {},
   "source": [
    "### knn"
   ]
  },
  {
   "cell_type": "code",
   "execution_count": null,
   "id": "9adc284c",
   "metadata": {},
   "outputs": [],
   "source": [
    "from sklearn.neighbors import KNeighborsClassifier\n",
    "\n",
    "classifier = KNeighborsClassifier(n_neighbors = 5, algorithm = 'ball_tree', metric = 'minkowski', p = 2)\n",
    "classifier.fit(X_train, Y_train)\n",
    "\n",
    "Y_pred = classifier.predict(X_test)"
   ]
  },
  {
   "cell_type": "markdown",
   "id": "9673d424",
   "metadata": {},
   "source": [
    "# Regressão"
   ]
  },
  {
   "cell_type": "markdown",
   "id": "e5663317",
   "metadata": {},
   "source": [
    "### árvore de regressão"
   ]
  },
  {
   "cell_type": "code",
   "execution_count": null,
   "id": "8caad328",
   "metadata": {},
   "outputs": [],
   "source": [
    "from sklearn.tree import DecisionTreeRegressor\n",
    "\n",
    "tree = DecisionTreeRegressor(criterion='mse', max_depth=3)         \n",
    "tree.fit(X, y)\n",
    "tree.predict(X)"
   ]
  },
  {
   "cell_type": "markdown",
   "id": "d631cf3b",
   "metadata": {},
   "source": [
    "### knn regressor"
   ]
  },
  {
   "cell_type": "code",
   "execution_count": null,
   "id": "2b234c3a",
   "metadata": {},
   "outputs": [],
   "source": [
    "from sklearn.neighbors import KNeighborsRegressor\n",
    "\n",
    "regressor = KNeighborsRegressor(n_neighbors = 6, algorithm = 'ball_tree', metric = 'minkowski', p = 2)\n",
    "regressor.fit(X_train, y_train)\n",
    "y_pred = regressor.predict(X_test)"
   ]
  },
  {
   "cell_type": "markdown",
   "id": "3ec3a0f0",
   "metadata": {},
   "source": [
    "### regressão linear"
   ]
  },
  {
   "cell_type": "code",
   "execution_count": null,
   "id": "ef30d716",
   "metadata": {},
   "outputs": [],
   "source": [
    "# simples\n",
    "from sklearn.linear_model import LinearRegression\n",
    "\n",
    "lr = LinearRegression()\n",
    "lr.fit(X, Y)\n",
    "df['previsto'] = lr.predict(X)\n",
    "\n",
    "\n",
    "# ridge\n",
    "\n",
    "from sklearn.linear_model import Ridge\n",
    "\n",
    "rg = Ridge(alpha = 10)\n",
    "rg.fit(X_train, y)\n",
    "y_pred = rg.predict(X_test)\n",
    "\n",
    "\n",
    "# lasso\n",
    "\n",
    "from sklearn.linear_model import Lasso\n",
    "\n",
    "ls = Lasso(alpha = 20)\n",
    "ls.fit(X_train, y)\n",
    "y_pred = ls.predict(X_test)\n",
    "\n",
    "\n",
    "# elastic net\n",
    "\n",
    "from sklearn.linear_model import ElasticNet\n",
    "\n",
    "# l1_ratio indica o quanto da penalização se deve ao Lasso\n",
    "en = ElasticNet(alpha = 0.001, l1_ratio = 0.3)\n",
    "en.fit(X_train, y)\n",
    "y_pred = en.predict(X_test)"
   ]
  },
  {
   "cell_type": "markdown",
   "id": "08cf2142",
   "metadata": {},
   "source": [
    "### svr"
   ]
  },
  {
   "cell_type": "code",
   "execution_count": null,
   "id": "7817c4cf",
   "metadata": {},
   "outputs": [],
   "source": [
    "from sklearn.svm import SVR\n",
    "\n",
    "regressor = SVR(C = 0.5, kernel = 'linear', gamma = 'auto')\n",
    "regressor.fit(X,y)\n",
    "\n",
    "y_pred = regressor.predict([[6.5]])\n",
    "print(y_pred)"
   ]
  },
  {
   "cell_type": "markdown",
   "id": "0ce05822",
   "metadata": {},
   "source": [
    "# Avaliação"
   ]
  },
  {
   "cell_type": "code",
   "execution_count": null,
   "id": "5b9bf80a",
   "metadata": {},
   "outputs": [],
   "source": [
    "from sklearn import metrics\n",
    "\n",
    "# roc auc é uma métrica que calcula a área sob a curva de taxa de verdadeiros positivos x taxa de falsos positivos\n",
    "print(round(metrics.roc_auc_score(y_test, prediction_result), 3))\n",
    "\n",
    "# acurácia é a quantidade de predições corretas (TP+TN)/(TP+TN+FP+FN)\n",
    "print(round(metrics.accuracy_score(y_test, prediction_result), 3))\n",
    "\n",
    "# recall é \"dos que realmente eram positivos, quanto o modelo indicou\" TP/(TP+FN)\n",
    "print(round(metrics.recall_score(y_test, prediction_result), 3))\n",
    "\n",
    "# precision é \"dos que o modelo indicou como positivo, quantos realmente eram\" TP/(TP+FP)\n",
    "print(round(metrics.precision_score(y_test, prediction_result), 3))\n",
    "\n",
    "# o f1 é uma métrica que combina o precision e o recall dando determinado peso a cada métrica\n",
    "print(round(metrics.f1_score(y_test, prediction_result, average = 'weighted'), 3))"
   ]
  }
 ],
 "metadata": {
  "kernelspec": {
   "display_name": "Python 3 (ipykernel)",
   "language": "python",
   "name": "python3"
  },
  "language_info": {
   "codemirror_mode": {
    "name": "ipython",
    "version": 3
   },
   "file_extension": ".py",
   "mimetype": "text/x-python",
   "name": "python",
   "nbconvert_exporter": "python",
   "pygments_lexer": "ipython3",
   "version": "3.9.7"
  }
 },
 "nbformat": 4,
 "nbformat_minor": 5
}
