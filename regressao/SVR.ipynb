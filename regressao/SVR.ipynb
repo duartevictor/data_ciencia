{
 "cells": [
  {
   "cell_type": "markdown",
   "id": "0f7e1b22",
   "metadata": {},
   "source": [
    "### conceito\n",
    "\n",
    "O **Support Vector Regression - SVR** faz \"o inverso\" do SVM: em vez de tentar criar a maior margem possível de forma que os dados não estejam dentro da margem, tenta preencher a margem com o maior número de instâncias possível, isto é, cria uma margem que contenha todos os dados dentro (em caso de hard margin) ou que permita alguns dados fora (soft margin). A reta de regressão será a que melhor se ajusta às margens e os vetores de suporte serão os dados no limite das margens. No caso do SVR, a margem pode ser interpretada como a tolerância ao erro, ou seja, estando dentro da margem, o \"erro\" atribuido a regressão é permitido. Assim como o SVM, também utiliza kernel trick's, portanto, funciona para problema lineares e não lineares"
   ]
  },
  {
   "cell_type": "code",
   "execution_count": 1,
   "id": "1c777fef",
   "metadata": {},
   "outputs": [],
   "source": [
    "import numpy as np\n",
    "import matplotlib.pyplot as plt\n",
    "import pandas as pd"
   ]
  },
  {
   "cell_type": "code",
   "execution_count": 2,
   "id": "8d32ddf4",
   "metadata": {},
   "outputs": [],
   "source": [
    "# importando dados e dividindo entre features e target\n",
    "\n",
    "link = 'https://raw.githubusercontent.com/sametgirgin/Machine-Learning-Regression-Models/master/Position_Salaries.csv'\n",
    "\n",
    "dataset = pd.read_csv(link)\n",
    "\n",
    "X = dataset.iloc[:,1:2].values.astype(float)\n",
    "y = dataset.iloc[:,2:3].values.astype(float)"
   ]
  },
  {
   "cell_type": "code",
   "execution_count": 3,
   "id": "0b5fd24d",
   "metadata": {},
   "outputs": [
    {
     "name": "stdout",
     "output_type": "stream",
     "text": [
      "[130001.82883924]\n"
     ]
    },
    {
     "name": "stderr",
     "output_type": "stream",
     "text": [
      "C:\\Users\\victo\\anaconda3\\lib\\site-packages\\sklearn\\utils\\validation.py:63: DataConversionWarning: A column-vector y was passed when a 1d array was expected. Please change the shape of y to (n_samples, ), for example using ravel().\n",
      "  return f(*args, **kwargs)\n"
     ]
    }
   ],
   "source": [
    "# inicializando e rodando algoritmo\n",
    "\n",
    "from sklearn.svm import SVR\n",
    "\n",
    "regressor = SVR(kernel='rbf')\n",
    "regressor.fit(X,y)\n",
    "\n",
    "y_pred = regressor.predict([[6.5]])\n",
    "print(y_pred)"
   ]
  },
  {
   "cell_type": "code",
   "execution_count": 4,
   "id": "a149bcbd",
   "metadata": {},
   "outputs": [
    {
     "data": {
      "image/png": "[encoded data removed]",
      "text/plain": [
       "<Figure size 432x288 with 1 Axes>"
      ]
     },
     "metadata": {
      "needs_background": "light"
     },
     "output_type": "display_data"
    }
   ],
   "source": [
    "# plot sem padronização dos dados\n",
    "\n",
    "plt.scatter(X, y, color = 'magenta')\n",
    "plt.plot(X, regressor.predict(X), color = 'green')\n",
    "plt.title('Truth or Bluff (Support Vector Regression Model)')\n",
    "plt.xlabel('Position level')\n",
    "plt.ylabel('Salary')\n",
    "plt.show()"
   ]
  },
  {
   "cell_type": "code",
   "execution_count": 5,
   "id": "da11bb56",
   "metadata": {},
   "outputs": [],
   "source": [
    "# padronizando os dados\n",
    "\n",
    "from sklearn.preprocessing import StandardScaler\n",
    "\n",
    "sc_X = StandardScaler()\n",
    "sc_y = StandardScaler()\n",
    "\n",
    "X = sc_X.fit_transform(X)\n",
    "y = sc_y.fit_transform(y)"
   ]
  },
  {
   "cell_type": "code",
   "execution_count": 6,
   "id": "03df1075",
   "metadata": {},
   "outputs": [
    {
     "name": "stdout",
     "output_type": "stream",
     "text": [
      "[0.01158103]\n"
     ]
    },
    {
     "name": "stderr",
     "output_type": "stream",
     "text": [
      "C:\\Users\\victo\\anaconda3\\lib\\site-packages\\sklearn\\utils\\validation.py:63: DataConversionWarning: A column-vector y was passed when a 1d array was expected. Please change the shape of y to (n_samples, ), for example using ravel().\n",
      "  return f(*args, **kwargs)\n"
     ]
    }
   ],
   "source": [
    "# inicializando e rodando o mesmo algoritmo\n",
    "\n",
    "from sklearn.svm import SVR\n",
    "\n",
    "regressor = SVR(kernel='rbf')\n",
    "regressor.fit(X,y)\n",
    "\n",
    "y_pred = regressor.predict([[6.5]])\n",
    "print(y_pred)"
   ]
  },
  {
   "cell_type": "code",
   "execution_count": 7,
   "id": "ea3821e9",
   "metadata": {},
   "outputs": [
    {
     "data": {
      "image/png": "[encoded data removed]",
      "text/plain": [
       "<Figure size 432x288 with 1 Axes>"
      ]
     },
     "metadata": {
      "needs_background": "light"
     },
     "output_type": "display_data"
    }
   ],
   "source": [
    "# plot com padronização dos dados\n",
    "\n",
    "plt.scatter(X, y, color = 'magenta')\n",
    "plt.plot(X, regressor.predict(X), color = 'green')\n",
    "plt.title('Truth or Bluff (Support Vector Regression Model)')\n",
    "plt.xlabel('Position level')\n",
    "plt.ylabel('Salary')\n",
    "plt.show()"
   ]
  }
 ],
 "metadata": {
  "kernelspec": {
   "display_name": "Python 3 (ipykernel)",
   "language": "python",
   "name": "python3"
  },
  "language_info": {
   "codemirror_mode": {
    "name": "ipython",
    "version": 3
   },
   "file_extension": ".py",
   "mimetype": "text/x-python",
   "name": "python",
   "nbconvert_exporter": "python",
   "pygments_lexer": "ipython3",
   "version": "3.9.7"
  }
 },
 "nbformat": 4,
 "nbformat_minor": 5
}
