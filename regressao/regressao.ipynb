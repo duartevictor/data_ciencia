{
 "cells": [
  {
   "cell_type": "code",
   "execution_count": 1,
   "id": "217786da",
   "metadata": {},
   "outputs": [],
   "source": [
    "# importar lib's base\n",
    "\n",
    "import pandas as pd\n",
    "import numpy as np\n",
    "import matplotlib.pyplot as plt"
   ]
  },
  {
   "cell_type": "markdown",
   "id": "329838a2",
   "metadata": {},
   "source": [
    "### problema\n",
    "\n",
    "Um problema de regressão é um problema em que você quer explicar uma target com base no valor de uma ou mais features, isto é, prever o valor de y dado x.\n",
    "\n",
    "Para isso, em termos de modelagem, é necessário/recomendado que as preditoras sejam independentes entre si, que não exista missing's e outlier's nos dados e a variável dependente deve ser numérica e contínua.\n",
    "\n",
    "Premissas teóricas da regressão linear:\n",
    "\n",
    "\t1 - o modelo é linear nos parâmetros (não necessariamente nas variáveis, mas deve ser nos parâmetros)\n",
    "\t2 - a amostragem é aleatória, isto é, as observações são independentes\n",
    "\t3 - a variância de x é positiva porque os valores de x não são constantes\n",
    "\t4 - a média condicional do termo de erro é 0 (não existe correlação entre o termo de erro e a variável explicativa, portanto a variável explicativa é exógena, não é explicada pelo modelo de regressão)\n",
    "\t5 - os erros são homocedásticos (a variância do erro é constante, não muda significativamente através dos valores)\n",
    "\t6 - os erros devem seguir uma distribuição normal\n",
    "\n",
    "1 a 4 - garante estimadores de MQO não-viesados\n",
    "1 a 5 - garante estimadores de MQO eficientes\n",
    "1 a 6 - garante estimadores de MQO normalmente distribuidos (neste caso é possível trabalhar com inferências)"
   ]
  },
  {
   "cell_type": "code",
   "execution_count": 2,
   "id": "109d64bc",
   "metadata": {},
   "outputs": [],
   "source": [
    "# gerar dados da variável independente (X) e da variável dependente (Y)\n",
    "\n",
    "X = np.asarray([2, 6, 8, 8, 12, 16, 20, 20, 22, 26]).reshape(-1, 1)\n",
    "Y = np.asarray([58, 105, 88, 118, 117, 137, 157, 169, 149, 202])"
   ]
  },
  {
   "cell_type": "markdown",
   "id": "611113aa",
   "metadata": {},
   "source": [
    "### conceito\n",
    "\n",
    "Existem duas principais formas de calcular o erro da regressão: o **MSE** - mean squared error - na forma $ (y-y')^2 $, e o **MAE** - mean absolute error, na forma $|y-y^||$.\n",
    "\n",
    "O **método dos mínimos quadrados** nos dá uma sugestão de escolha para $a$ e $b$. O objetivo é escolher os valores que minimizam a soma dos resíduos quadráticos, isto é, a soma dos quadrados das diferenças entre o valor previsto e o valor real. Trando a primeira derivada da função da soma dos erros quadráticos e igualando a zero, encontramos um ponto que pode ser de mínimo ou de máximo, e quando tiramos a segunda derviada, caso seja > 0, encontramos o ponto de mínimo. Para $y = x^2$, por exemplo, $f'x = 2x$ (mínimo ou máximo) e $f''x = 2$ (mínimo), portanto, $2x = 0$ -> $x = 0$. A desvantagem deste método é que, quando trabalhamos na forma matricial, isto é, quando existe mais de uma feature (cada coluna será referente ao coeficiente angular da variável associada), é necessário calcular uma matriz inversa, o que é relativamente complexo.\n",
    "\n",
    "O **MAE** resolveria o problema de compensação dos erros (um erro positivo anular um erro negativo na soma dos erros), mas no mínimos quadrados colocamos ao quadrado para facilitar o processo de minimização: mantém a função convexa e diferenciável, tendo assim a garantia de que haverá convergência para um mínimo global.\n",
    "\n",
    "O **MAE** penaliza mais quando os erros são menores que 1, pois se elevados ao quadrado o valor diminuiria, e o **MSE** penaliza mais quando os erros são maiores que 1, pois elevados ao quadrado eles aumentam. "
   ]
  },
  {
   "cell_type": "markdown",
   "id": "c361bd53",
   "metadata": {},
   "source": [
    "### regressão linear simples"
   ]
  },
  {
   "cell_type": "code",
   "execution_count": 3,
   "id": "c848ac7d",
   "metadata": {},
   "outputs": [],
   "source": [
    "#importar regressão linear do scikit-learn\n",
    "\n",
    "from sklearn.linear_model import LinearRegression"
   ]
  },
  {
   "cell_type": "code",
   "execution_count": 4,
   "id": "5a4ea0db",
   "metadata": {},
   "outputs": [],
   "source": [
    "lr = LinearRegression()"
   ]
  },
  {
   "cell_type": "code",
   "execution_count": 5,
   "id": "76443d9d",
   "metadata": {},
   "outputs": [
    {
     "data": {
      "text/plain": [
       "LinearRegression()"
      ]
     },
     "execution_count": 5,
     "metadata": {},
     "output_type": "execute_result"
    }
   ],
   "source": [
    "lr.fit(X, Y)"
   ]
  },
  {
   "cell_type": "code",
   "execution_count": 6,
   "id": "6995cb94",
   "metadata": {},
   "outputs": [
    {
     "name": "stdout",
     "output_type": "stream",
     "text": [
      "[5.]\n",
      "60.0\n",
      "\n",
      "Modelo: y = 5.0 x + 60.0\n"
     ]
    }
   ],
   "source": [
    "print(lr.coef_)\n",
    "print(lr.intercept_)\n",
    "\n",
    "print(f'\\nModelo: y = {lr.coef_[0]} x + {lr.intercept_}')"
   ]
  },
  {
   "cell_type": "code",
   "execution_count": 7,
   "id": "6f7dd881",
   "metadata": {},
   "outputs": [
    {
     "data": {
      "text/html": [
       "<div>\n",
       "<style scoped>\n",
       "    .dataframe tbody tr th:only-of-type {\n",
       "        vertical-align: middle;\n",
       "    }\n",
       "\n",
       "    .dataframe tbody tr th {\n",
       "        vertical-align: top;\n",
       "    }\n",
       "\n",
       "    .dataframe thead th {\n",
       "        text-align: right;\n",
       "    }\n",
       "</style>\n",
       "<table border=\"1\" class=\"dataframe\">\n",
       "  <thead>\n",
       "    <tr style=\"text-align: right;\">\n",
       "      <th></th>\n",
       "      <th>variavel_explicativa</th>\n",
       "      <th>real</th>\n",
       "      <th>previsto</th>\n",
       "    </tr>\n",
       "  </thead>\n",
       "  <tbody>\n",
       "    <tr>\n",
       "      <th>0</th>\n",
       "      <td>2</td>\n",
       "      <td>58</td>\n",
       "      <td>70.0</td>\n",
       "    </tr>\n",
       "    <tr>\n",
       "      <th>1</th>\n",
       "      <td>6</td>\n",
       "      <td>105</td>\n",
       "      <td>90.0</td>\n",
       "    </tr>\n",
       "    <tr>\n",
       "      <th>2</th>\n",
       "      <td>8</td>\n",
       "      <td>88</td>\n",
       "      <td>100.0</td>\n",
       "    </tr>\n",
       "    <tr>\n",
       "      <th>3</th>\n",
       "      <td>8</td>\n",
       "      <td>118</td>\n",
       "      <td>100.0</td>\n",
       "    </tr>\n",
       "    <tr>\n",
       "      <th>4</th>\n",
       "      <td>12</td>\n",
       "      <td>117</td>\n",
       "      <td>120.0</td>\n",
       "    </tr>\n",
       "    <tr>\n",
       "      <th>5</th>\n",
       "      <td>16</td>\n",
       "      <td>137</td>\n",
       "      <td>140.0</td>\n",
       "    </tr>\n",
       "    <tr>\n",
       "      <th>6</th>\n",
       "      <td>20</td>\n",
       "      <td>157</td>\n",
       "      <td>160.0</td>\n",
       "    </tr>\n",
       "    <tr>\n",
       "      <th>7</th>\n",
       "      <td>20</td>\n",
       "      <td>169</td>\n",
       "      <td>160.0</td>\n",
       "    </tr>\n",
       "    <tr>\n",
       "      <th>8</th>\n",
       "      <td>22</td>\n",
       "      <td>149</td>\n",
       "      <td>170.0</td>\n",
       "    </tr>\n",
       "    <tr>\n",
       "      <th>9</th>\n",
       "      <td>26</td>\n",
       "      <td>202</td>\n",
       "      <td>190.0</td>\n",
       "    </tr>\n",
       "  </tbody>\n",
       "</table>\n",
       "</div>"
      ],
      "text/plain": [
       "   variavel_explicativa  real  previsto\n",
       "0                     2    58      70.0\n",
       "1                     6   105      90.0\n",
       "2                     8    88     100.0\n",
       "3                     8   118     100.0\n",
       "4                    12   117     120.0\n",
       "5                    16   137     140.0\n",
       "6                    20   157     160.0\n",
       "7                    20   169     160.0\n",
       "8                    22   149     170.0\n",
       "9                    26   202     190.0"
      ]
     },
     "execution_count": 7,
     "metadata": {},
     "output_type": "execute_result"
    }
   ],
   "source": [
    "df = pd.DataFrame(X, columns = ['variavel_explicativa'])\n",
    "df['real'] = Y\n",
    "df['previsto'] = lr.predict(X)\n",
    "df"
   ]
  },
  {
   "cell_type": "code",
   "execution_count": 8,
   "id": "0568a5b3",
   "metadata": {},
   "outputs": [
    {
     "data": {
      "image/png": "[encoded data removed]",
      "text/plain": [
       "<Figure size 700x500 with 1 Axes>"
      ]
     },
     "metadata": {
      "needs_background": "light"
     },
     "output_type": "display_data"
    }
   ],
   "source": [
    "plt.figure(figsize=(7, 5), dpi = 100)\n",
    "\n",
    "x = np.arange(min(X), max(X)+1,1).reshape(-1, 1)\n",
    "plt.plot(x, lr.predict(x), label = 'a = ' + str(lr.coef_[0])+' e b = '+str(lr.intercept_))\n",
    "\n",
    "plt.scatter(X, Y, c = 'k')\n",
    "plt.scatter(X, lr.predict(X), color = 'blue')\n",
    "\n",
    "plt.xlabel('x')\n",
    "plt.ylabel('y')\n",
    "plt.legend()\n",
    "plt.show()"
   ]
  },
  {
   "cell_type": "markdown",
   "id": "3bc4dbda",
   "metadata": {},
   "source": [
    "### regreesão linear múltipla"
   ]
  },
  {
   "cell_type": "code",
   "execution_count": 9,
   "id": "e466af37",
   "metadata": {},
   "outputs": [],
   "source": [
    "# gerar problema de regressão aleatório\n",
    "\n",
    "from sklearn.datasets import make_regression\n",
    "\n",
    "X_big, Y_big_real = make_regression(n_samples = 200, n_features = 10, n_informative = 5, noise = 30, tail_strength = 0.3, random_state = 42)"
   ]
  },
  {
   "cell_type": "code",
   "execution_count": 10,
   "id": "596cc1b7",
   "metadata": {},
   "outputs": [
    {
     "data": {
      "text/plain": [
       "LinearRegression()"
      ]
     },
     "execution_count": 10,
     "metadata": {},
     "output_type": "execute_result"
    }
   ],
   "source": [
    "lr_big = LinearRegression()\n",
    "\n",
    "lr_big.fit(X_big, Y_big_real)"
   ]
  },
  {
   "cell_type": "code",
   "execution_count": 11,
   "id": "33a7240c",
   "metadata": {},
   "outputs": [
    {
     "name": "stdout",
     "output_type": "stream",
     "text": [
      "Coeficientes:  -3.4421611188564416 [ 1.53504458 -1.59908847  7.68307896 80.58345008  1.65002134 36.45262863\n",
      "  9.99969291 41.01975588  1.56709946 -1.20620528]\n"
     ]
    }
   ],
   "source": [
    "print('Coeficientes: ', lr_big.intercept_, lr_big.coef_)"
   ]
  },
  {
   "cell_type": "code",
   "execution_count": 12,
   "id": "68b92b03",
   "metadata": {},
   "outputs": [
    {
     "data": {
      "text/html": [
       "<div>\n",
       "<style scoped>\n",
       "    .dataframe tbody tr th:only-of-type {\n",
       "        vertical-align: middle;\n",
       "    }\n",
       "\n",
       "    .dataframe tbody tr th {\n",
       "        vertical-align: top;\n",
       "    }\n",
       "\n",
       "    .dataframe thead th {\n",
       "        text-align: right;\n",
       "    }\n",
       "</style>\n",
       "<table border=\"1\" class=\"dataframe\">\n",
       "  <thead>\n",
       "    <tr style=\"text-align: right;\">\n",
       "      <th></th>\n",
       "      <th>Variável 0</th>\n",
       "      <th>Variável 1</th>\n",
       "      <th>Variável 2</th>\n",
       "      <th>Variável 3</th>\n",
       "      <th>Variável 4</th>\n",
       "      <th>Variável 5</th>\n",
       "      <th>Variável 6</th>\n",
       "      <th>Variável 7</th>\n",
       "      <th>Variável 8</th>\n",
       "      <th>Variável 9</th>\n",
       "      <th>Real</th>\n",
       "      <th>Previsto</th>\n",
       "    </tr>\n",
       "  </thead>\n",
       "  <tbody>\n",
       "    <tr>\n",
       "      <th>0</th>\n",
       "      <td>1.262584</td>\n",
       "      <td>0.932591</td>\n",
       "      <td>-0.399636</td>\n",
       "      <td>0.224685</td>\n",
       "      <td>-1.760809</td>\n",
       "      <td>1.726964</td>\n",
       "      <td>-0.372833</td>\n",
       "      <td>0.722381</td>\n",
       "      <td>-1.525656</td>\n",
       "      <td>-1.418366</td>\n",
       "      <td>81.047593</td>\n",
       "      <td>97.310775</td>\n",
       "    </tr>\n",
       "    <tr>\n",
       "      <th>1</th>\n",
       "      <td>-0.295480</td>\n",
       "      <td>-0.370011</td>\n",
       "      <td>-0.109610</td>\n",
       "      <td>-0.088363</td>\n",
       "      <td>1.598647</td>\n",
       "      <td>-0.436386</td>\n",
       "      <td>0.006422</td>\n",
       "      <td>0.546284</td>\n",
       "      <td>0.560919</td>\n",
       "      <td>-0.258796</td>\n",
       "      <td>3.413128</td>\n",
       "      <td>-0.872555</td>\n",
       "    </tr>\n",
       "    <tr>\n",
       "      <th>2</th>\n",
       "      <td>-0.692421</td>\n",
       "      <td>-1.320023</td>\n",
       "      <td>0.194607</td>\n",
       "      <td>-0.742471</td>\n",
       "      <td>-0.037037</td>\n",
       "      <td>-0.622649</td>\n",
       "      <td>1.695051</td>\n",
       "      <td>0.043602</td>\n",
       "      <td>-0.429302</td>\n",
       "      <td>-0.611769</td>\n",
       "      <td>-123.438372</td>\n",
       "      <td>-64.684488</td>\n",
       "    </tr>\n",
       "    <tr>\n",
       "      <th>3</th>\n",
       "      <td>-1.406661</td>\n",
       "      <td>-0.725744</td>\n",
       "      <td>0.026091</td>\n",
       "      <td>0.517659</td>\n",
       "      <td>-0.755383</td>\n",
       "      <td>-0.624819</td>\n",
       "      <td>-1.279577</td>\n",
       "      <td>-1.840874</td>\n",
       "      <td>-0.611518</td>\n",
       "      <td>0.186767</td>\n",
       "      <td>-76.199271</td>\n",
       "      <td>-76.039565</td>\n",
       "    </tr>\n",
       "    <tr>\n",
       "      <th>4</th>\n",
       "      <td>-2.872262</td>\n",
       "      <td>-1.594703</td>\n",
       "      <td>-0.147603</td>\n",
       "      <td>-0.466037</td>\n",
       "      <td>-0.532701</td>\n",
       "      <td>0.323168</td>\n",
       "      <td>-1.768439</td>\n",
       "      <td>0.140886</td>\n",
       "      <td>-1.169917</td>\n",
       "      <td>0.513600</td>\n",
       "      <td>8.419654</td>\n",
       "      <td>-47.446281</td>\n",
       "    </tr>\n",
       "    <tr>\n",
       "      <th>...</th>\n",
       "      <td>...</td>\n",
       "      <td>...</td>\n",
       "      <td>...</td>\n",
       "      <td>...</td>\n",
       "      <td>...</td>\n",
       "      <td>...</td>\n",
       "      <td>...</td>\n",
       "      <td>...</td>\n",
       "      <td>...</td>\n",
       "      <td>...</td>\n",
       "      <td>...</td>\n",
       "      <td>...</td>\n",
       "    </tr>\n",
       "    <tr>\n",
       "      <th>195</th>\n",
       "      <td>-0.410814</td>\n",
       "      <td>-1.662492</td>\n",
       "      <td>-1.748532</td>\n",
       "      <td>1.304340</td>\n",
       "      <td>1.126705</td>\n",
       "      <td>0.793489</td>\n",
       "      <td>0.810808</td>\n",
       "      <td>-0.134309</td>\n",
       "      <td>-1.090966</td>\n",
       "      <td>1.032546</td>\n",
       "      <td>100.862559</td>\n",
       "      <td>120.687064</td>\n",
       "    </tr>\n",
       "    <tr>\n",
       "      <th>196</th>\n",
       "      <td>-0.894607</td>\n",
       "      <td>-0.309172</td>\n",
       "      <td>-0.462275</td>\n",
       "      <td>-0.434496</td>\n",
       "      <td>-0.478749</td>\n",
       "      <td>0.096121</td>\n",
       "      <td>-0.516045</td>\n",
       "      <td>0.938284</td>\n",
       "      <td>1.255756</td>\n",
       "      <td>0.222134</td>\n",
       "      <td>-45.348515</td>\n",
       "      <td>-5.144183</td>\n",
       "    </tr>\n",
       "    <tr>\n",
       "      <th>197</th>\n",
       "      <td>-0.576904</td>\n",
       "      <td>0.150394</td>\n",
       "      <td>-0.525755</td>\n",
       "      <td>-0.759133</td>\n",
       "      <td>1.876171</td>\n",
       "      <td>-2.123896</td>\n",
       "      <td>-0.599393</td>\n",
       "      <td>-0.839722</td>\n",
       "      <td>0.950424</td>\n",
       "      <td>0.341756</td>\n",
       "      <td>-214.088367</td>\n",
       "      <td>-183.468780</td>\n",
       "    </tr>\n",
       "    <tr>\n",
       "      <th>198</th>\n",
       "      <td>-0.974529</td>\n",
       "      <td>-0.241258</td>\n",
       "      <td>1.109700</td>\n",
       "      <td>0.409819</td>\n",
       "      <td>1.899882</td>\n",
       "      <td>0.634721</td>\n",
       "      <td>0.489187</td>\n",
       "      <td>0.350630</td>\n",
       "      <td>-0.132634</td>\n",
       "      <td>0.672574</td>\n",
       "      <td>85.198420</td>\n",
       "      <td>81.525680</td>\n",
       "    </tr>\n",
       "    <tr>\n",
       "      <th>199</th>\n",
       "      <td>0.696206</td>\n",
       "      <td>-0.272724</td>\n",
       "      <td>-1.503143</td>\n",
       "      <td>-0.245743</td>\n",
       "      <td>-0.054295</td>\n",
       "      <td>-0.259591</td>\n",
       "      <td>1.669022</td>\n",
       "      <td>-0.335785</td>\n",
       "      <td>-0.230935</td>\n",
       "      <td>-2.696887</td>\n",
       "      <td>-1.190970</td>\n",
       "      <td>-37.034311</td>\n",
       "    </tr>\n",
       "  </tbody>\n",
       "</table>\n",
       "<p>200 rows × 12 columns</p>\n",
       "</div>"
      ],
      "text/plain": [
       "     Variável 0  Variável 1  Variável 2  Variável 3  Variável 4  Variável 5  \\\n",
       "0      1.262584    0.932591   -0.399636    0.224685   -1.760809    1.726964   \n",
       "1     -0.295480   -0.370011   -0.109610   -0.088363    1.598647   -0.436386   \n",
       "2     -0.692421   -1.320023    0.194607   -0.742471   -0.037037   -0.622649   \n",
       "3     -1.406661   -0.725744    0.026091    0.517659   -0.755383   -0.624819   \n",
       "4     -2.872262   -1.594703   -0.147603   -0.466037   -0.532701    0.323168   \n",
       "..          ...         ...         ...         ...         ...         ...   \n",
       "195   -0.410814   -1.662492   -1.748532    1.304340    1.126705    0.793489   \n",
       "196   -0.894607   -0.309172   -0.462275   -0.434496   -0.478749    0.096121   \n",
       "197   -0.576904    0.150394   -0.525755   -0.759133    1.876171   -2.123896   \n",
       "198   -0.974529   -0.241258    1.109700    0.409819    1.899882    0.634721   \n",
       "199    0.696206   -0.272724   -1.503143   -0.245743   -0.054295   -0.259591   \n",
       "\n",
       "     Variável 6  Variável 7  Variável 8  Variável 9        Real    Previsto  \n",
       "0     -0.372833    0.722381   -1.525656   -1.418366   81.047593   97.310775  \n",
       "1      0.006422    0.546284    0.560919   -0.258796    3.413128   -0.872555  \n",
       "2      1.695051    0.043602   -0.429302   -0.611769 -123.438372  -64.684488  \n",
       "3     -1.279577   -1.840874   -0.611518    0.186767  -76.199271  -76.039565  \n",
       "4     -1.768439    0.140886   -1.169917    0.513600    8.419654  -47.446281  \n",
       "..          ...         ...         ...         ...         ...         ...  \n",
       "195    0.810808   -0.134309   -1.090966    1.032546  100.862559  120.687064  \n",
       "196   -0.516045    0.938284    1.255756    0.222134  -45.348515   -5.144183  \n",
       "197   -0.599393   -0.839722    0.950424    0.341756 -214.088367 -183.468780  \n",
       "198    0.489187    0.350630   -0.132634    0.672574   85.198420   81.525680  \n",
       "199    1.669022   -0.335785   -0.230935   -2.696887   -1.190970  -37.034311  \n",
       "\n",
       "[200 rows x 12 columns]"
      ]
     },
     "execution_count": 12,
     "metadata": {},
     "output_type": "execute_result"
    }
   ],
   "source": [
    "Y_big_previsto = lr_big.predict(X_big)\n",
    "\n",
    "df_big = pd.DataFrame(list(X_big), columns = ['Variável '+str(i) for i in range(len(X_big[0]))])\n",
    "df_big['Real'] = Y_big_real\n",
    "df_big['Previsto'] = Y_big_previsto\n",
    "df_big"
   ]
  },
  {
   "cell_type": "markdown",
   "id": "29462c7d",
   "metadata": {},
   "source": [
    "### métricas"
   ]
  },
  {
   "cell_type": "code",
   "execution_count": 13,
   "id": "00fd971b",
   "metadata": {},
   "outputs": [],
   "source": [
    "# importar MSE, R2 e MAE\n",
    "\n",
    "from sklearn.metrics import mean_squared_error, r2_score, mean_absolute_error"
   ]
  },
  {
   "cell_type": "code",
   "execution_count": 14,
   "id": "ed38bb59",
   "metadata": {},
   "outputs": [
    {
     "data": {
      "text/plain": [
       "763.2123045705787"
      ]
     },
     "execution_count": 14,
     "metadata": {},
     "output_type": "execute_result"
    }
   ],
   "source": [
    "# cálculo MSE\n",
    "\n",
    "mean_squared_error(Y_big_real, Y_big_previsto)"
   ]
  },
  {
   "cell_type": "code",
   "execution_count": 15,
   "id": "731db80d",
   "metadata": {},
   "outputs": [
    {
     "data": {
      "text/plain": [
       "27.626297337330218"
      ]
     },
     "execution_count": 15,
     "metadata": {},
     "output_type": "execute_result"
    }
   ],
   "source": [
    "# cálculo RMSE - é a raiz quadrada do MSE, utilizada para maior interpretabilidade da métrica\n",
    "\n",
    "np.sqrt(mean_squared_error(Y_big_real, Y_big_previsto))"
   ]
  },
  {
   "cell_type": "code",
   "execution_count": 16,
   "id": "a91b5850",
   "metadata": {},
   "outputs": [
    {
     "data": {
      "text/plain": [
       "0.9229757493547153"
      ]
     },
     "execution_count": 16,
     "metadata": {},
     "output_type": "execute_result"
    }
   ],
   "source": [
    "# cáluclo R2 - R² é uma medida que diz qual é o erro com a média e qual é o erro com o modelo. o resultado do R² como % indica que as variáveis independentes explicam x% da variabilidade da variável depentende\n",
    "\n",
    "r2_score(Y_big_real, Y_big_previsto)"
   ]
  },
  {
   "cell_type": "code",
   "execution_count": 17,
   "id": "2943ece8",
   "metadata": {},
   "outputs": [
    {
     "data": {
      "text/plain": [
       "0.9229757493547153"
      ]
     },
     "execution_count": 17,
     "metadata": {},
     "output_type": "execute_result"
    }
   ],
   "source": [
    "# cálculo \"manual\" do R2\n",
    "\n",
    "1 - mean_squared_error(Y_big_real, Y_big_previsto)/mean_squared_error(Y_big_real, [np.mean(Y_big_real)]*Y_big_real.shape[0])"
   ]
  },
  {
   "cell_type": "code",
   "execution_count": 18,
   "id": "a44616d4",
   "metadata": {},
   "outputs": [
    {
     "data": {
      "text/plain": [
       "21.874317340785474"
      ]
     },
     "execution_count": 18,
     "metadata": {},
     "output_type": "execute_result"
    }
   ],
   "source": [
    "# cálculo MAE\n",
    "\n",
    "mean_absolute_error(Y_big_real, Y_big_previsto)"
   ]
  },
  {
   "cell_type": "markdown",
   "id": "adab9602",
   "metadata": {},
   "source": [
    "### regressão polinomial"
   ]
  },
  {
   "cell_type": "code",
   "execution_count": 19,
   "id": "cf3c5773",
   "metadata": {},
   "outputs": [],
   "source": [
    "X = pd.DataFrame([-6, -7.5, -4, -2.3, -2.5, -1, 0, 0.5, 2, 3.45, 6.3, 5, 7.6, 9.5, -8.9, -9.5, -8, -3.5, 3.4, 5.6], columns =['x'])\n",
    "y = [538.9, -283.8, 337.5, 396.3, 414.8, 394.7, 725.9, 362.2, 505.8, 486.6, 1228.2, 481.3, 1328.3, 2218.9, -872.8, -1151.1, -591.2, 601.6, 651.8, 1361.6]"
   ]
  },
  {
   "cell_type": "code",
   "execution_count": 20,
   "id": "90460b69",
   "metadata": {},
   "outputs": [
    {
     "data": {
      "text/html": [
       "<div>\n",
       "<style scoped>\n",
       "    .dataframe tbody tr th:only-of-type {\n",
       "        vertical-align: middle;\n",
       "    }\n",
       "\n",
       "    .dataframe tbody tr th {\n",
       "        vertical-align: top;\n",
       "    }\n",
       "\n",
       "    .dataframe thead th {\n",
       "        text-align: right;\n",
       "    }\n",
       "</style>\n",
       "<table border=\"1\" class=\"dataframe\">\n",
       "  <thead>\n",
       "    <tr style=\"text-align: right;\">\n",
       "      <th></th>\n",
       "      <th>x</th>\n",
       "    </tr>\n",
       "  </thead>\n",
       "  <tbody>\n",
       "    <tr>\n",
       "      <th>0</th>\n",
       "      <td>-6.0</td>\n",
       "    </tr>\n",
       "    <tr>\n",
       "      <th>1</th>\n",
       "      <td>-7.5</td>\n",
       "    </tr>\n",
       "    <tr>\n",
       "      <th>2</th>\n",
       "      <td>-4.0</td>\n",
       "    </tr>\n",
       "    <tr>\n",
       "      <th>3</th>\n",
       "      <td>-2.3</td>\n",
       "    </tr>\n",
       "    <tr>\n",
       "      <th>4</th>\n",
       "      <td>-2.5</td>\n",
       "    </tr>\n",
       "  </tbody>\n",
       "</table>\n",
       "</div>"
      ],
      "text/plain": [
       "     x\n",
       "0 -6.0\n",
       "1 -7.5\n",
       "2 -4.0\n",
       "3 -2.3\n",
       "4 -2.5"
      ]
     },
     "execution_count": 20,
     "metadata": {},
     "output_type": "execute_result"
    }
   ],
   "source": [
    "X.head()"
   ]
  },
  {
   "cell_type": "code",
   "execution_count": 21,
   "id": "281cd8ef",
   "metadata": {},
   "outputs": [
    {
     "data": {
      "text/plain": [
       "[538.9, -283.8, 337.5, 396.3, 414.8]"
      ]
     },
     "execution_count": 21,
     "metadata": {},
     "output_type": "execute_result"
    }
   ],
   "source": [
    "y[:5]"
   ]
  },
  {
   "cell_type": "code",
   "execution_count": 22,
   "id": "1d76ac28",
   "metadata": {},
   "outputs": [],
   "source": [
    "lr = LinearRegression()\n",
    "lr.fit(X, y)\n",
    "y_pred = lr.predict(X)"
   ]
  },
  {
   "cell_type": "code",
   "execution_count": 23,
   "id": "7ed9360b",
   "metadata": {},
   "outputs": [
    {
     "name": "stderr",
     "output_type": "stream",
     "text": [
      "No handles with labels found to put in legend.\n"
     ]
    },
    {
     "data": {
      "image/png": "[encoded data removed]",
      "text/plain": [
       "<Figure size 700x500 with 1 Axes>"
      ]
     },
     "metadata": {
      "needs_background": "light"
     },
     "output_type": "display_data"
    }
   ],
   "source": [
    "plt.figure(figsize=(7, 5), dpi = 100)\n",
    "\n",
    "plt.plot(X, y_pred)\n",
    "\n",
    "plt.scatter(X.x, y, color = 'black')\n",
    "\n",
    "plt.xlabel('x')\n",
    "plt.ylabel('y')\n",
    "plt.legend()\n",
    "plt.show()"
   ]
  },
  {
   "cell_type": "markdown",
   "id": "3885e553",
   "metadata": {},
   "source": [
    "Como o algoritmo sempre tenta encontrar relações lineares entre as variáveis, ele não consegue capturar o padrão mais complexo deste caso específico. Para contornar o problema, criamos novas features de modo que a relação entre a variável resposta e as novas features criadas seja aproximadamente linear. Fazemos isso, normalmente, aumentando o grau do polinômio. É importante ter em mente que, em relação às novas features, **o algoritmo ainda está resolvendo um problema de regressão linear**."
   ]
  },
  {
   "cell_type": "code",
   "execution_count": 24,
   "id": "dee85082",
   "metadata": {},
   "outputs": [
    {
     "data": {
      "text/html": [
       "<div>\n",
       "<style scoped>\n",
       "    .dataframe tbody tr th:only-of-type {\n",
       "        vertical-align: middle;\n",
       "    }\n",
       "\n",
       "    .dataframe tbody tr th {\n",
       "        vertical-align: top;\n",
       "    }\n",
       "\n",
       "    .dataframe thead th {\n",
       "        text-align: right;\n",
       "    }\n",
       "</style>\n",
       "<table border=\"1\" class=\"dataframe\">\n",
       "  <thead>\n",
       "    <tr style=\"text-align: right;\">\n",
       "      <th></th>\n",
       "      <th>z1</th>\n",
       "      <th>z2</th>\n",
       "      <th>z3</th>\n",
       "    </tr>\n",
       "  </thead>\n",
       "  <tbody>\n",
       "    <tr>\n",
       "      <th>0</th>\n",
       "      <td>-6.0</td>\n",
       "      <td>36.00</td>\n",
       "      <td>-216.000</td>\n",
       "    </tr>\n",
       "    <tr>\n",
       "      <th>1</th>\n",
       "      <td>-7.5</td>\n",
       "      <td>56.25</td>\n",
       "      <td>-421.875</td>\n",
       "    </tr>\n",
       "    <tr>\n",
       "      <th>2</th>\n",
       "      <td>-4.0</td>\n",
       "      <td>16.00</td>\n",
       "      <td>-64.000</td>\n",
       "    </tr>\n",
       "    <tr>\n",
       "      <th>3</th>\n",
       "      <td>-2.3</td>\n",
       "      <td>5.29</td>\n",
       "      <td>-12.167</td>\n",
       "    </tr>\n",
       "    <tr>\n",
       "      <th>4</th>\n",
       "      <td>-2.5</td>\n",
       "      <td>6.25</td>\n",
       "      <td>-15.625</td>\n",
       "    </tr>\n",
       "  </tbody>\n",
       "</table>\n",
       "</div>"
      ],
      "text/plain": [
       "    z1     z2       z3\n",
       "0 -6.0  36.00 -216.000\n",
       "1 -7.5  56.25 -421.875\n",
       "2 -4.0  16.00  -64.000\n",
       "3 -2.3   5.29  -12.167\n",
       "4 -2.5   6.25  -15.625"
      ]
     },
     "execution_count": 24,
     "metadata": {},
     "output_type": "execute_result"
    }
   ],
   "source": [
    "Z = pd.DataFrame()\n",
    "Z['z1'] = X.x\n",
    "Z['z2'] = X.x**2\n",
    "Z['z3'] = X.x**3\n",
    "Z.head()"
   ]
  },
  {
   "cell_type": "code",
   "execution_count": 25,
   "id": "63e6d8c6",
   "metadata": {},
   "outputs": [],
   "source": [
    "lr = LinearRegression()\n",
    "lr.fit(Z, y)\n",
    "y_pred = lr.predict(Z)\n",
    "\n",
    "X_graf = np.linspace(-10, 10, num = 100)\n",
    "Z = pd.DataFrame()\n",
    "Z['z1'] = X_graf\n",
    "Z['z2'] = X_graf**2\n",
    "Z['z3'] = X_graf**3\n",
    "y_graf = lr.predict(Z)"
   ]
  },
  {
   "cell_type": "code",
   "execution_count": 26,
   "id": "7ff5df28",
   "metadata": {},
   "outputs": [
    {
     "name": "stdout",
     "output_type": "stream",
     "text": [
      "MSE:  35501.84835879489\n",
      "MAE:  145.16571324886803\n",
      "R2:  0.9380026542169615\n"
     ]
    }
   ],
   "source": [
    "print('MSE: ', mean_squared_error(y, y_pred))\n",
    "print('MAE: ', mean_absolute_error(y, y_pred))\n",
    "print('R2: ', r2_score(y, y_pred))"
   ]
  },
  {
   "cell_type": "code",
   "execution_count": 27,
   "id": "4a3bca7e",
   "metadata": {},
   "outputs": [
    {
     "data": {
      "image/png": "[encoded data removed]",
      "text/plain": [
       "<Figure size 700x500 with 1 Axes>"
      ]
     },
     "metadata": {
      "needs_background": "light"
     },
     "output_type": "display_data"
    }
   ],
   "source": [
    "plt.figure(figsize=(7, 5), dpi = 100)\n",
    "\n",
    "plt.plot(X_graf, y_graf)\n",
    "\n",
    "plt.scatter(X.x, y, color = 'black')\n",
    "plt.scatter(X.x, y_pred, color = 'blue')\n",
    "\n",
    "plt.xlabel('x')\n",
    "plt.ylabel('y')\n",
    "plt.show()"
   ]
  },
  {
   "cell_type": "markdown",
   "id": "e6f4e979",
   "metadata": {},
   "source": [
    "Quanto maior o grau, mais sensível aos dados o algoritmo se torna, portanto, aumentando muito o grau do polinômio o algoritmo pode aprender relações mais complexas, mas provavelmente ocorrerá **overfitting**."
   ]
  },
  {
   "cell_type": "markdown",
   "id": "1d92ee4b",
   "metadata": {},
   "source": [
    "### regularização\n",
    "\n",
    "O obetivo da regularização é reduzir o overfitting adicionando restrições/penalizações na estimação dos parâmetros da regressão. A ideia principal é que diminuir o valor dos coeficientes diminui a influência de algumas variáveis no modelo e assim o modelo se torna mais simples (na prática, isso significa que a regularização diminui a capacidade do modelo de se adpatar aos dados). Assim, a variância é reduzida e o viés aumenta. Existem algumas formas de regularização, mas no geral elas funcionam alterando a função de custo do algoritmo de modo que os parâmetros encontrados não serão somente os que minimizam a função, mas os que minimizam a função + o fator de penalização.\n",
    "\n",
    "**Ridge (L2)**: Adiciona um termo de viés que eleva os parâmetros ao quadrado, o que diminuirá a variância. O valor do termo que multiplicará a soma dos parâmetros indicará o grau de penalização do modelo. É importante normalizar as variáveis, por a depender da escala poderá haver valores maiores ou menores para os coeficientes.\n",
    "\n",
    "**Lasso (L1)**: Possui a mesma ideia da Ridge mas em vez de, na penalização, elevar os parâmetros ao quadrado, aplica-se um módulo aos parâmetros. Também é utilizada para a eliminação de variáveis, pois se a inclinação chega a zero, a variável não tem poder explicativo.\n",
    "\n",
    "**ElasticNet**: Combina as duas formas de regularização anteriores, aplicando uma penalização ridge (quadrado dos parâmetros) e uma penalização lasso (módulo dos parâmetros).\n",
    "\n",
    "Normalmente a regularizaão ridge é utilizada quando se sabe que a maioria das variáveis independentes são relevantes, a Lasso quando se sabe que algumas variáveis independentes são irrelevantes e a elasticnet quando não se sabe (muitas variáveis, por exemplo)."
   ]
  },
  {
   "cell_type": "code",
   "execution_count": 28,
   "id": "3fca5a9c",
   "metadata": {},
   "outputs": [],
   "source": [
    "X = pd.DataFrame([-6, -7.5, -4, -2.3, -2.5, -1, 0, 0.5, 2, 3.45, 6.3, 5, 7.6, 9.5, -8.9, -9.5, -8, -3.5, 3.4, 5.6], columns = ['x'])\n",
    "y = [528.9, -182.8, 337.5, 396.3, 414.8, 394.7, 725.9, 362.2, 505.8, 486.6, 1228.2, 481.3, 1328.3, 2218.9, -872.8, -1151.1, -591.2, 601.6, 651.8, 1361.6]\n",
    "\n",
    "X_test = np.array([-6.5, -7.6, -4.4, -2.2, -2.1, -0.5, -0.4, 1.2, 1.6, 4.0, 5.7, 4.8, 7.9, 10.2, -8.8, -9.2, -8.6, -3.9, 3.2, 4.9])\n",
    "y_test = [294.3, -74.2, 295.8, 159.5, 688.1, 525.5, 508.2, 499.7, 648.7, 847.0, 715.0, 394.2, 1660.5, 2788.1, -1198.6, -1385.3, -719.4, 496.1, 675.3, 614.8]"
   ]
  },
  {
   "cell_type": "code",
   "execution_count": 29,
   "id": "0e70db9f",
   "metadata": {},
   "outputs": [],
   "source": [
    "from sklearn.preprocessing import PolynomialFeatures\n",
    "\n",
    "pf = PolynomialFeatures(degree = 10, include_bias = False)\n",
    "\n",
    "Z =  pf.fit_transform(X)\n",
    "Z_test = pf.transform(X_test.reshape(-1, 1))"
   ]
  },
  {
   "cell_type": "code",
   "execution_count": 30,
   "id": "0ba4ac54",
   "metadata": {},
   "outputs": [],
   "source": [
    "from sklearn.preprocessing import MinMaxScaler\n",
    "\n",
    "sc = MinMaxScaler()\n",
    "Z_esc = sc.fit_transform(Z)\n",
    "Z_esc_test = sc.transform(Z_test)"
   ]
  },
  {
   "cell_type": "markdown",
   "id": "56229e98",
   "metadata": {},
   "source": [
    "### ridge"
   ]
  },
  {
   "cell_type": "code",
   "execution_count": 31,
   "id": "d984b88a",
   "metadata": {},
   "outputs": [],
   "source": [
    "from sklearn.linear_model import Ridge\n",
    "\n",
    "rg = Ridge(alpha = 10)\n",
    "rg.fit(Z_esc, y)\n",
    "y_pred = rg.predict(Z_esc_test)"
   ]
  },
  {
   "cell_type": "code",
   "execution_count": 32,
   "id": "c23042de",
   "metadata": {},
   "outputs": [
    {
     "name": "stdout",
     "output_type": "stream",
     "text": [
      "MSE:  428029.9543125079\n",
      "MAE:  403.51297644629335\n",
      "R2:  0.4366391578818848\n"
     ]
    }
   ],
   "source": [
    "print('MSE: ', mean_squared_error(y_test, y_pred))\n",
    "print('MAE: ', mean_absolute_error(y_test, y_pred))\n",
    "print('R2: ', r2_score(y_test, y_pred))"
   ]
  },
  {
   "cell_type": "code",
   "execution_count": 33,
   "id": "e8f2eaf2",
   "metadata": {},
   "outputs": [
    {
     "name": "stdout",
     "output_type": "stream",
     "text": [
      "217251.96832505288\n"
     ]
    },
    {
     "data": {
      "text/plain": [
       "array([270.50616953, -31.93751263, 218.88338213, -42.18439296,\n",
       "       189.52867484, -38.30109251, 171.23616382, -30.06406594,\n",
       "       159.06326127, -21.30804203])"
      ]
     },
     "execution_count": 33,
     "metadata": {},
     "output_type": "execute_result"
    }
   ],
   "source": [
    "print((rg.coef_**2).sum())\n",
    "rg.coef_"
   ]
  },
  {
   "cell_type": "markdown",
   "id": "96436870",
   "metadata": {},
   "source": [
    "### lasso"
   ]
  },
  {
   "cell_type": "code",
   "execution_count": 34,
   "id": "9b50f9d8",
   "metadata": {},
   "outputs": [],
   "source": [
    "from sklearn.linear_model import Lasso\n",
    "\n",
    "ls = Lasso(alpha = 20)\n",
    "ls.fit(Z_esc, y)\n",
    "y_pred = ls.predict(Z_esc_test)"
   ]
  },
  {
   "cell_type": "code",
   "execution_count": 35,
   "id": "6fc48bac",
   "metadata": {},
   "outputs": [
    {
     "name": "stdout",
     "output_type": "stream",
     "text": [
      "MSE:  77040.06374827199\n",
      "MAE:  215.74436705618092\n",
      "R2:  0.8986020610175051\n"
     ]
    }
   ],
   "source": [
    "print('MSE: ', mean_squared_error(y_test, y_pred))\n",
    "print('MAE: ', mean_absolute_error(y_test, y_pred))\n",
    "print('R2: ', r2_score(y_test, y_pred))"
   ]
  },
  {
   "cell_type": "code",
   "execution_count": 36,
   "id": "09c57917",
   "metadata": {},
   "outputs": [
    {
     "name": "stdout",
     "output_type": "stream",
     "text": [
      "2878.6036000982785\n"
     ]
    },
    {
     "data": {
      "text/plain": [
       "array([ 276.18656302,   -0.        , 2602.41703708,   -0.        ,\n",
       "          0.        ,   -0.        ,    0.        ,   -0.        ,\n",
       "          0.        ,   -0.        ])"
      ]
     },
     "execution_count": 36,
     "metadata": {},
     "output_type": "execute_result"
    }
   ],
   "source": [
    "print(np.abs(ls.coef_).sum())\n",
    "ls.coef_"
   ]
  },
  {
   "cell_type": "markdown",
   "id": "af831d6e",
   "metadata": {},
   "source": [
    "### elasticnet"
   ]
  },
  {
   "cell_type": "code",
   "execution_count": 37,
   "id": "c94e319d",
   "metadata": {},
   "outputs": [],
   "source": [
    "from sklearn.linear_model import ElasticNet\n",
    "\n",
    "# l1_ratio indica o quanto da penalização se deve ao Lasso\n",
    "en = ElasticNet(alpha = 0.001, l1_ratio = 0.3)\n",
    "en.fit(Z_esc, y)\n",
    "y_pred = en.predict(Z_esc_test)"
   ]
  },
  {
   "cell_type": "code",
   "execution_count": 38,
   "id": "ea36579b",
   "metadata": {
    "scrolled": true
   },
   "outputs": [
    {
     "name": "stdout",
     "output_type": "stream",
     "text": [
      "MSE:  43861.47748402109\n",
      "MAE:  169.82902926699563\n",
      "R2:  0.9422707718397156\n"
     ]
    }
   ],
   "source": [
    "print('MSE: ', mean_squared_error(y_test, y_pred))\n",
    "print('MAE: ', mean_absolute_error(y_test, y_pred))\n",
    "print('R2: ', r2_score(y_test, y_pred))"
   ]
  }
 ],
 "metadata": {
  "kernelspec": {
   "display_name": "Python 3 (ipykernel)",
   "language": "python",
   "name": "python3"
  },
  "language_info": {
   "codemirror_mode": {
    "name": "ipython",
    "version": 3
   },
   "file_extension": ".py",
   "mimetype": "text/x-python",
   "name": "python",
   "nbconvert_exporter": "python",
   "pygments_lexer": "ipython3",
   "version": "3.9.7"
  }
 },
 "nbformat": 4,
 "nbformat_minor": 5
}
