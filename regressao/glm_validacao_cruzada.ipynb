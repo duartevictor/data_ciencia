{
 "cells": [
  {
   "cell_type": "markdown",
   "id": "4d5b7162",
   "metadata": {},
   "source": [
    "### GLM - conceito\n",
    "\n",
    "Os modelos lineares generalizados surgiram com o objetivo de tentar solucionar problemas que respeitem o domínio da variável dependente. Por exemplo: em um caso de regressão linear onde os valores são não negativos (crédito tomado, por exemplo), um modelo de regressão linear pode assumir que existam valores menores que 0 para a variável target, pois não há nenhuma restrição quanto a isso na regressão. Os GLM's tentam resolver estes problemas, adequando o modelo à variável target.\n",
    "\n",
    "Resumidamente, existe um componente aleatório (variável target) que pertence à uma família de distribuições exponenciais (bernoulli, binomial, poisson, gamma), um componente sistemático (variáveis explicativas) e uma função de ligação que faz o link funcional entre os dois componentes."
   ]
  },
  {
   "cell_type": "code",
   "execution_count": null,
   "id": "c9d4dad3",
   "metadata": {},
   "outputs": [],
   "source": [
    "# exemplo GLM Poission - não rodar, sem dados\n",
    "\n",
    "import statsmodels.api as sm\n",
    "\n",
    "#exog = independentes e endog = dependente\n",
    "exog, endog = sm.add_constant(X), y\n",
    "\n",
    "mod = sm.GLM(endog, exog, family = sm.families.Poission(link = sm.families.links.log()))\n",
    "res = mod.fit()\n",
    "display(res.summary())"
   ]
  },
  {
   "cell_type": "code",
   "execution_count": null,
   "id": "6da12fab",
   "metadata": {},
   "outputs": [],
   "source": [
    "exog_test = sm.add_constant(X_test)\n",
    "\n",
    "y_pred = res.predict(exog_test)"
   ]
  },
  {
   "cell_type": "markdown",
   "id": "84eae99d",
   "metadata": {},
   "source": [
    "### validação cruzada - conceito\n",
    "\n",
    "Quando os dados são simplesmente separados em treino e teste em uma proporção fixa, além de a proporção de teste não ser utilizada no modelo, pode acontecer de haver overfitting com os dados de treino. A **validação cruzada** serve para aproveitar melhor os dados de treino e teste a fim de se evitar o overfitting."
   ]
  }
 ],
 "metadata": {
  "kernelspec": {
   "display_name": "Python 3 (ipykernel)",
   "language": "python",
   "name": "python3"
  },
  "language_info": {
   "codemirror_mode": {
    "name": "ipython",
    "version": 3
   },
   "file_extension": ".py",
   "mimetype": "text/x-python",
   "name": "python",
   "nbconvert_exporter": "python",
   "pygments_lexer": "ipython3",
   "version": "3.9.7"
  }
 },
 "nbformat": 4,
 "nbformat_minor": 5
}
