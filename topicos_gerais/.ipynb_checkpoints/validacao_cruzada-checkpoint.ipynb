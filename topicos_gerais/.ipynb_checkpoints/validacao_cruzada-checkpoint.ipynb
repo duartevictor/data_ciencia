{
 "cells": [
  {
   "cell_type": "markdown",
   "id": "84eae99d",
   "metadata": {},
   "source": [
    "### validação cruzada - conceito\n",
    "\n",
    "Quando os dados são simplesmente separados em treino e teste em uma proporção fixa, além de a proporção de teste não ser utilizada no modelo, pode ocorrer overfitting com os dados de treino. A **validação cruzada** serve para aproveitar melhor os dados de treino e teste a fim de se evitar o overfitting.\n",
    "\n",
    "**K-Fold**:O modo mais simples de fazer a validação cruzada é dividindo o conjunto de dados em k partes. Em cada iteração, escolhemos uma dessas partes para ser o conjunto de teste. As demais k-1 partes são utilizadas para treinar o modelo. O processo é repetido até que todas as k partes tenham sido utilizadas como teste.\n",
    "\n",
    "O **Stratified K-Fold** é usado quando o conjunto de dados é desbalanceado. Ele também funciona dividindo em fold's, mas sempre mantendo o mesmo percentual do envento (ou não evento) raro na base.\n",
    "\n",
    "O **Leave-One-Out** funciona utilizando apenas um exemplo como teste e o restante do conjunto de dados como treino. Na prática é pouco utilizado."
   ]
  },
  {
   "cell_type": "code",
   "execution_count": 1,
   "id": "b240eba4",
   "metadata": {},
   "outputs": [],
   "source": [
    "import numpy as np"
   ]
  },
  {
   "cell_type": "code",
   "execution_count": 2,
   "id": "726e87f3",
   "metadata": {},
   "outputs": [],
   "source": [
    "# dados explicativos e var_resp\n",
    "\n",
    "X = np.asarray([2, 6, 8, 8, 12, 16, 20, 20, 22, 26]).reshape(-1, 1)\n",
    "y = np.asarray([58, 105, 88, 118, 117, 137, 157, 169, 149, 202])"
   ]
  },
  {
   "cell_type": "code",
   "execution_count": 3,
   "id": "ae406c98",
   "metadata": {},
   "outputs": [
    {
     "name": "stdout",
     "output_type": "stream",
     "text": [
      "treino: [2 3 4 5 6 7 8 9]\n",
      " teste: [0 1]\n",
      "treino: [0 1 4 5 6 7 8 9]\n",
      " teste: [2 3]\n",
      "treino: [0 1 2 3 6 7 8 9]\n",
      " teste: [4 5]\n",
      "treino: [0 1 2 3 4 5 8 9]\n",
      " teste: [6 7]\n",
      "treino: [0 1 2 3 4 5 6 7]\n",
      " teste: [8 9]\n"
     ]
    }
   ],
   "source": [
    "# k-fold (5-fold, nesse caso)\n",
    "\n",
    "from sklearn.model_selection import KFold\n",
    "\n",
    "kfold = KFold(n_splits = 5)\n",
    "\n",
    "for i in kfold.split(X):\n",
    "    print(f'treino: {i[0]}\\n teste: {i[1]}')"
   ]
  },
  {
   "cell_type": "code",
   "execution_count": 4,
   "id": "767231ff",
   "metadata": {},
   "outputs": [
    {
     "name": "stdout",
     "output_type": "stream",
     "text": [
      "\n",
      "Modelo: y = 5.15 x + 59.4\n"
     ]
    }
   ],
   "source": [
    "kfold = KFold(n_splits = 5)\n",
    "\n",
    "for train_index, test_index in kfold.split(X):\n",
    "    X_train, y_train = X[train_index, :], y[train_index]\n",
    "    X_test, y_test = X[test_index, :], y[test_index]\n",
    "\n",
    "from sklearn.linear_model import LinearRegression\n",
    "\n",
    "lr = LinearRegression()\n",
    "lr.fit(X_train, y_train)\n",
    "y_pred = lr.predict(X_test)\n",
    "\n",
    "print(f'\\nModelo: y = {round(lr.coef_[0], 3)} x + {round(lr.intercept_, 3)}')"
   ]
  },
  {
   "cell_type": "code",
   "execution_count": 5,
   "id": "ee28ad57",
   "metadata": {
    "scrolled": true
   },
   "outputs": [
    {
     "data": {
      "text/plain": [
       "{'fit_time': array([0.00299692, 0.0009985 , 0.00099897]),\n",
       " 'score_time': array([0.        , 0.00100112, 0.        ]),\n",
       " 'test_score': array([0.40081415, 0.92639764, 0.52379637])}"
      ]
     },
     "execution_count": 5,
     "metadata": {},
     "output_type": "execute_result"
    }
   ],
   "source": [
    "# para utilizar, é só incializar o algoritmo antes e passar como hiperparâmetro do cross_validate\n",
    "\n",
    "from sklearn.model_selection import cross_validate\n",
    "\n",
    "lr = LinearRegression()\n",
    "\n",
    "# quando um inteiro é passado no hiperparâmetro cv o algoritmo faz um stratified kfold (se for um modelo de classificação)\n",
    "cross_validate(lr, X, y, scoring = 'r2', cv = 3)"
   ]
  },
  {
   "cell_type": "code",
   "execution_count": 6,
   "id": "a13dd5b1",
   "metadata": {},
   "outputs": [
    {
     "data": {
      "text/plain": [
       "{'fit_time': array([0.0009985 , 0.00099897, 0.0009985 , 0.00099921, 0.00100136]),\n",
       " 'score_time': array([0.0009973 , 0.        , 0.        , 0.00099945, 0.        ]),\n",
       " 'test_score': array([ 0.66211164, -0.08825126,  0.859375  , -0.55157035,  0.54618726])}"
      ]
     },
     "execution_count": 6,
     "metadata": {},
     "output_type": "execute_result"
    }
   ],
   "source": [
    "cross_validate(lr, X, y, scoring = 'r2', cv = kfold)"
   ]
  },
  {
   "cell_type": "code",
   "execution_count": 7,
   "id": "a5d027c1",
   "metadata": {
    "scrolled": true
   },
   "outputs": [
    {
     "data": {
      "text/plain": [
       "{'fit_time': array([0.00101757, 0.00099874, 0.00099206, 0.00099945, 0.00100088]),\n",
       " 'score_time': array([0.00097919, 0.00200009, 0.00099969, 0.00199819, 0.00100017]),\n",
       " 'estimator': [LinearRegression(),\n",
       "  LinearRegression(),\n",
       "  LinearRegression(),\n",
       "  LinearRegression(),\n",
       "  LinearRegression()],\n",
       " 'test_r2': array([ 0.66211164, -0.08825126,  0.859375  , -0.55157035,  0.54618726]),\n",
       " 'test_neg_mean_squared_error': array([-186.59884495, -244.85653262,  -14.0625    ,  -55.85653262,\n",
       "        -318.69      ])}"
      ]
     },
     "execution_count": 7,
     "metadata": {},
     "output_type": "execute_result"
    }
   ],
   "source": [
    "# é possível retornar todos os estimadores treinados, assim como mais de uma métrica\n",
    "\n",
    "cross_validate(lr, X, y, scoring = ['r2', 'neg_mean_squared_error'], cv = kfold, return_estimator = True)"
   ]
  }
 ],
 "metadata": {
  "kernelspec": {
   "display_name": "Python 3 (ipykernel)",
   "language": "python",
   "name": "python3"
  },
  "language_info": {
   "codemirror_mode": {
    "name": "ipython",
    "version": 3
   },
   "file_extension": ".py",
   "mimetype": "text/x-python",
   "name": "python",
   "nbconvert_exporter": "python",
   "pygments_lexer": "ipython3",
   "version": "3.9.7"
  }
 },
 "nbformat": 4,
 "nbformat_minor": 5
}
