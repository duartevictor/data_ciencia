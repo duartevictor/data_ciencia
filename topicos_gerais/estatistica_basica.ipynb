{
 "cells": [
  {
   "cell_type": "markdown",
   "id": "56962f2b",
   "metadata": {},
   "source": [
    "## fundamentos\n",
    "\n",
    "\n",
    "**Espaço de probabilidade:** Existem três componentes em um espaço de probabilidade: espaço de amostra (um conjunto de todos os resultados possíveis), eventos (um conjunto de resultados (um subconjunto do espaço amostral) ao qual é associado um valor de probabilidade) e medidas de probabilidade (uma probabilidade atribuida ao evento).\n",
    "\n",
    "**Variável aleatória:** Uma variável aleatória em si é uma função e pode ser discreta (possui um conjunto finito de resultados possíveis que podem ser contados) ou contínua (conjunto infinito de resultados possíveis que não podem ser contados)."
   ]
  },
  {
   "cell_type": "code",
   "execution_count": 1,
   "id": "858fb591",
   "metadata": {},
   "outputs": [
    {
     "name": "stdout",
     "output_type": "stream",
     "text": [
      "a probabilidade de um dado mostrar 1 ou 4 é: {0.3}\n"
     ]
    }
   ],
   "source": [
    "# a medidade de probabilidade é aditiva, a probabilidade de um dado mostrar 1 ou 4 é:\n",
    "\n",
    "print(f'a probabilidade de um dado mostrar 1 ou 4 é:', {round((1/6)+(1/6), 1)})"
   ]
  },
  {
   "cell_type": "code",
   "execution_count": 2,
   "id": "e8cb7c59",
   "metadata": {},
   "outputs": [
    {
     "name": "stdout",
     "output_type": "stream",
     "text": [
      "a probabilidade de ver cara nas duas vezes é: {0.2}\n",
      "a probabilidade de ver cara ou coroa é: {1.0}\n"
     ]
    }
   ],
   "source": [
    "# princípio da multiplicação: se jogarmos uma moeda duas vezes:\n",
    "\n",
    "print(f'a probabilidade de ver cara nas duas vezes é:', {round((1/2)*(1/2), 1)})\n",
    "\n",
    "# princípio da adição: se jogarmos uma moeda duas vezes:\n",
    "\n",
    "print(f'a probabilidade de ver cara ou coroa é:', {round((1/2)+(1/2), 1)})"
   ]
  },
  {
   "cell_type": "markdown",
   "id": "98365ef0",
   "metadata": {},
   "source": [
    "**Probabilidade condicional:** Considerando que exista um conjunto de amostras de carros, os quais alguns são vermelhos e outros azuis, podendo ser carros grandes ou pequenos: <br>\n",
    "* a probabilidade de um carro ser vermelho ou azul é P(V) U P(A) = P(V) + P(A) <br>\n",
    "* a probabilidade de um carro ser vermelho e grande é P(V e G) = P(V) x P(G | V)"
   ]
  },
  {
   "cell_type": "markdown",
   "id": "8d78d3f8",
   "metadata": {},
   "source": [
    "## estatística descritiva\n",
    "\n",
    "**Tipos de medida:** Medidas de tendência central (média, moda e mediana), variabilidade (variância e desvio padrão) e correlação (covariância e coeficiente de correlação).\n",
    "\n",
    "**População e sample:** A população é o conjunto de todos os elementos e uma sample é um subconjunto contendo alguns elementos da população.\n",
    "\n",
    "**Outliers:** Um outlier é um ponto do conjunto de dados que difere significativamente da maioria."
   ]
  },
  {
   "cell_type": "code",
   "execution_count": 3,
   "id": "9d68287c",
   "metadata": {},
   "outputs": [],
   "source": [
    "import math\n",
    "import statistics\n",
    "import numpy as np\n",
    "import scipy.stats\n",
    "import pandas as pd"
   ]
  },
  {
   "cell_type": "code",
   "execution_count": 4,
   "id": "687e2132",
   "metadata": {},
   "outputs": [
    {
     "name": "stdout",
     "output_type": "stream",
     "text": [
      "[8.0, 1, 2.5, 4, 28.0]\n",
      "[8.0, 1, 2.5, nan, 4, 28.0]\n"
     ]
    }
   ],
   "source": [
    "x = [8.0, 1, 2.5, 4, 28.0]\n",
    "x_with_nan = [8.0, 1, 2.5, math.nan, 4, 28.0]\n",
    "\n",
    "print(x)\n",
    "print(x_with_nan)"
   ]
  },
  {
   "cell_type": "code",
   "execution_count": 5,
   "id": "0d3d9eab",
   "metadata": {},
   "outputs": [],
   "source": [
    "# criar array e series:\n",
    "y, y_with_nan = np.array(x), np.array(x_with_nan)\n",
    "z, z_with_nan = pd.Series(x), pd.Series(x_with_nan)"
   ]
  },
  {
   "cell_type": "code",
   "execution_count": 6,
   "id": "2288437c",
   "metadata": {},
   "outputs": [
    {
     "name": "stdout",
     "output_type": "stream",
     "text": [
      "nan\n",
      "8.7\n"
     ]
    }
   ],
   "source": [
    "# retorna nulo por ter um valor nulo no meio:\n",
    "print(np.mean(y_with_nan))\n",
    "\n",
    "# para evitar isso:\n",
    "print(np.nanmean(y_with_nan))"
   ]
  },
  {
   "cell_type": "code",
   "execution_count": 7,
   "id": "c9a39f6a",
   "metadata": {},
   "outputs": [
    {
     "name": "stdout",
     "output_type": "stream",
     "text": [
      "6.95\n"
     ]
    }
   ],
   "source": [
    "# média ponderada:\n",
    "\n",
    "x = [8.0, 1, 2.5, 4, 28.0]\n",
    "w = [0.1, 0.2, 0.3, 0.25, 0.15]\n",
    "\n",
    "y, w = np.array(x), np.array(w)\n",
    "print(np.average(y, weights=w))"
   ]
  },
  {
   "cell_type": "code",
   "execution_count": 8,
   "id": "dba9ef88",
   "metadata": {},
   "outputs": [
    {
     "name": "stdout",
     "output_type": "stream",
     "text": [
      "4.67788567485604\n"
     ]
    }
   ],
   "source": [
    "# média geométrica (enésima raiz do produtório dos n elementos):\n",
    "\n",
    "print(statistics.geometric_mean(x))"
   ]
  },
  {
   "cell_type": "code",
   "execution_count": 9,
   "id": "7609a2f8",
   "metadata": {},
   "outputs": [
    {
     "name": "stdout",
     "output_type": "stream",
     "text": [
      "4\n",
      "2.5\n",
      "4\n"
     ]
    }
   ],
   "source": [
    "# mediana (valor central):\n",
    "print(statistics.median(x))\n",
    "\n",
    "# as funções abaixo funcionarão como uma median() comum caso o número de elementos seja ímpar:\n",
    "print(statistics.median_low(x[:-1]))\n",
    "print(statistics.median_high(x[:-1]))"
   ]
  },
  {
   "cell_type": "code",
   "execution_count": 10,
   "id": "8a2b4050",
   "metadata": {},
   "outputs": [
    {
     "name": "stdout",
     "output_type": "stream",
     "text": [
      "2\n",
      "[12, 15]\n"
     ]
    }
   ],
   "source": [
    "# moda:\n",
    "\n",
    "u = [2, 3, 2, 8, 12]\n",
    "print(statistics.mode(u))\n",
    "\n",
    "# multimodal:\n",
    "v = [12, 15, 12, 15, 21, 15, 12]\n",
    "print(statistics.multimode(v))"
   ]
  },
  {
   "cell_type": "markdown",
   "id": "23b43b66",
   "metadata": {},
   "source": [
    "As variâncias calculadas abaixo são amostrais, para a variância populacional o denominador deve ser *n* em vez de *n-1* e a função é *statistics.pvariance()*."
   ]
  },
  {
   "cell_type": "code",
   "execution_count": 11,
   "id": "5a73edcb",
   "metadata": {},
   "outputs": [
    {
     "name": "stdout",
     "output_type": "stream",
     "text": [
      "123.2\n",
      "123.2\n"
     ]
    }
   ],
   "source": [
    "# variância:\n",
    "print(statistics.variance(x))\n",
    "\n",
    "# ddof (delta degrees of freedom, permite que o denominador do somatório seja n-1):\n",
    "print(round(np.var(y, ddof=1), 1))"
   ]
  },
  {
   "cell_type": "code",
   "execution_count": 12,
   "id": "37ebc1f6",
   "metadata": {},
   "outputs": [
    {
     "name": "stdout",
     "output_type": "stream",
     "text": [
      "11.1\n"
     ]
    }
   ],
   "source": [
    "# desvio padrão:\n",
    "print(round(statistics.stdev(x), 1))"
   ]
  },
  {
   "cell_type": "markdown",
   "id": "cc223cff",
   "metadata": {},
   "source": [
    "**Skewness:** É uma medida de assimetria dos dados. Uma assimetria negativa indica que há mais elementos na calda esquerda da distribuição, enquanto uma assimetria positiva infica que há mais elemntos na calda direita. Um valor de skewness próximo de 0 indica que os dados possuem distribuição simétrica."
   ]
  },
  {
   "cell_type": "code",
   "execution_count": 13,
   "id": "ce1706ec",
   "metadata": {},
   "outputs": [
    {
     "name": "stdout",
     "output_type": "stream",
     "text": [
      "1.9470432273905927\n"
     ]
    }
   ],
   "source": [
    "# assimetria:\n",
    "\n",
    "x = [8.0, 1, 2.5, 4, 28.0]\n",
    "y = np.array(x)\n",
    "\n",
    "# bias = False habilita correções de viés\n",
    "print(scipy.stats.skew(y, bias=False))"
   ]
  },
  {
   "cell_type": "markdown",
   "id": "c3bd7f15",
   "metadata": {},
   "source": [
    "**Percentil:** O percentil p de um conjunto de dados é o elemento em que p% dos dados possuem valores menores ou iguais a ele. É comum a divisão em quartis: o primeiro quartil é o 25º percentil, o segundo é o 50º percentil (que equivale à mediana) e o terceiro quartil é o 75º percentil."
   ]
  },
  {
   "cell_type": "code",
   "execution_count": 14,
   "id": "0ed8d803",
   "metadata": {},
   "outputs": [
    {
     "name": "stdout",
     "output_type": "stream",
     "text": [
      "[8.0]\n",
      "[0.1, 8.0, 21.0]\n"
     ]
    }
   ],
   "source": [
    "# método para divir os dados em intervalos:\n",
    "\n",
    "x = [-5.0, -1.1, 0.1, 2.0, 8.0, 12.8, 21.0, 25.8, 41.0]\n",
    "\n",
    "print(statistics.quantiles(x, n=2))\n",
    "print(statistics.quantiles(x, n=4, method='inclusive'))"
   ]
  },
  {
   "cell_type": "code",
   "execution_count": 15,
   "id": "6299d78c",
   "metadata": {},
   "outputs": [
    {
     "data": {
      "text/plain": [
       "DescribeResult(nobs=9, minmax=(-5.0, 41.0), mean=11.622222222222222, variance=228.75194444444446, skewness=0.9249043136685094, kurtosis=0.14770623629658886)"
      ]
     },
     "execution_count": 15,
     "metadata": {},
     "output_type": "execute_result"
    }
   ],
   "source": [
    "# sumarizando:\n",
    "\n",
    "y = np.array(x)\n",
    "scipy.stats.describe(y, ddof=1, bias=False)"
   ]
  },
  {
   "cell_type": "code",
   "execution_count": 16,
   "id": "80f62191",
   "metadata": {},
   "outputs": [
    {
     "data": {
      "text/plain": [
       "count     9.000000\n",
       "mean     11.622222\n",
       "std      15.124548\n",
       "min      -5.000000\n",
       "25%       0.100000\n",
       "50%       8.000000\n",
       "75%      21.000000\n",
       "max      41.000000\n",
       "dtype: float64"
      ]
     },
     "execution_count": 16,
     "metadata": {},
     "output_type": "execute_result"
    }
   ],
   "source": [
    "z = pd.Series(y)\n",
    "\n",
    "z.describe()"
   ]
  },
  {
   "cell_type": "markdown",
   "id": "6e013f94",
   "metadata": {},
   "source": [
    "**Correlação:** É utilizada para analisar como variáveis se relacionam entre si. Uma correlação positiva existe quando valores maiores de *x* correspondem a valores maiores de *y*, uma correlação negativa existe quando valores maiores de *x* correspondem a valores menores de *y* e uma correlação fraca ou inexitente ocorre quando não há relação entre os dados."
   ]
  },
  {
   "cell_type": "code",
   "execution_count": 17,
   "id": "cef76f57",
   "metadata": {},
   "outputs": [],
   "source": [
    "x = list(range(-10, 11))\n",
    "y = [0, 2, 2, 2, 2, 3, 3, 6, 7, 4, 7, 6, 6, 9, 4, 5, 5, 10, 11, 12, 14]\n",
    "\n",
    "x_, y_ = np.array(x), np.array(y)\n",
    "x__, y__ = pd.Series(x_), pd.Series(y_)"
   ]
  },
  {
   "cell_type": "code",
   "execution_count": 18,
   "id": "0a16ecbc",
   "metadata": {},
   "outputs": [
    {
     "name": "stdout",
     "output_type": "stream",
     "text": [
      "[[38.5        19.95      ]\n",
      " [19.95       13.91428571]]\n"
     ]
    }
   ],
   "source": [
    "# covariância:\n",
    "print(np.cov(x_, y_))"
   ]
  },
  {
   "cell_type": "code",
   "execution_count": 19,
   "id": "3f1ffbef",
   "metadata": {},
   "outputs": [
    {
     "name": "stdout",
     "output_type": "stream",
     "text": [
      "0.861950005631606\n",
      "5.122760847201171e-07\n"
     ]
    }
   ],
   "source": [
    "# coeficiente de correlação e p-value:\n",
    "\n",
    "r, p = scipy.stats.pearsonr(x_, y_)\n",
    "\n",
    "print(r)\n",
    "print(p)"
   ]
  },
  {
   "cell_type": "markdown",
   "id": "37e66adc",
   "metadata": {},
   "source": [
    "**visualização**"
   ]
  },
  {
   "cell_type": "code",
   "execution_count": 20,
   "id": "5f259562",
   "metadata": {},
   "outputs": [],
   "source": [
    "import matplotlib.pyplot as plt\n",
    "plt.style.use('ggplot')"
   ]
  },
  {
   "cell_type": "code",
   "execution_count": 21,
   "id": "274686f8",
   "metadata": {},
   "outputs": [],
   "source": [
    "np.random.seed(seed=0)\n",
    "\n",
    "x = np.random.randn(1000)\n",
    "y = np.random.randn(100)\n",
    "z = np.random.randn(10)"
   ]
  },
  {
   "cell_type": "code",
   "execution_count": 22,
   "id": "4770f091",
   "metadata": {},
   "outputs": [
    {
     "data": {
      "image/png": "[encoded data removed]",
      "text/plain": [
       "<Figure size 700x500 with 1 Axes>"
      ]
     },
     "metadata": {},
     "output_type": "display_data"
    }
   ],
   "source": [
    "# boxplot:\n",
    "\n",
    "plt.figure(figsize=(7, 5), dpi = 100)\n",
    "\n",
    "plt.boxplot((x, y, z), vert=False, showmeans=True, meanline=True, labels=('x', 'y', 'z'), patch_artist=True,\n",
    "           medianprops={'linewidth': 2, 'color': 'purple'},\n",
    "           meanprops={'linewidth': 2, 'color': 'red'})\n",
    "\n",
    "plt.show()"
   ]
  },
  {
   "cell_type": "code",
   "execution_count": 23,
   "id": "ffe73da4",
   "metadata": {},
   "outputs": [
    {
     "data": {
      "image/png": "[encoded data removed]",
      "text/plain": [
       "<Figure size 700x500 with 1 Axes>"
      ]
     },
     "metadata": {},
     "output_type": "display_data"
    }
   ],
   "source": [
    "# histograma:\n",
    "\n",
    "hist, bin_edges = np.histogram(x, bins=10)\n",
    "\n",
    "plt.figure(figsize=(7, 5), dpi = 100)\n",
    "\n",
    "plt.hist(x, bin_edges, cumulative=False)\n",
    "\n",
    "plt.xlabel('x')\n",
    "plt.ylabel('Frequency')\n",
    "plt.show()"
   ]
  },
  {
   "cell_type": "code",
   "execution_count": 24,
   "id": "12e0cf68",
   "metadata": {},
   "outputs": [
    {
     "data": {
      "image/png": "[encoded data removed]",
      "text/plain": [
       "<Figure size 700x500 with 1 Axes>"
      ]
     },
     "metadata": {},
     "output_type": "display_data"
    }
   ],
   "source": [
    "# barras:\n",
    "\n",
    "x = np.arange(21)\n",
    "y = np.random.randint(21, size=21)\n",
    "err = np.random.randn(21)\n",
    "\n",
    "plt.figure(figsize=(7, 5), dpi = 100)\n",
    "\n",
    "plt.bar(x, y, yerr=err)\n",
    "plt.xlabel('x')\n",
    "plt.ylabel('y')\n",
    "plt.show()"
   ]
  },
  {
   "cell_type": "code",
   "execution_count": 25,
   "id": "5036f1c5",
   "metadata": {
    "scrolled": false
   },
   "outputs": [
    {
     "data": {
      "image/png": "[encoded data removed]",
      "text/plain": [
       "<Figure size 700x500 with 1 Axes>"
      ]
     },
     "metadata": {},
     "output_type": "display_data"
    }
   ],
   "source": [
    "# dispersão:\n",
    "\n",
    "x = np.arange(21)\n",
    "y = 5 + 2 * x + 2 * np.random.randn(21)\n",
    "\n",
    "slope, intercept, r, *__ = scipy.stats.linregress(x, y)\n",
    "line = f'Regression line: y={intercept:.2f}+{slope:.2f}x, r={r:.2f}'\n",
    "\n",
    "plt.figure(figsize=(7, 5), dpi = 100)\n",
    "\n",
    "plt.plot(x, y, linewidth=0, marker='s', label='Data points')\n",
    "plt.plot(x, intercept + slope * x, label=line)\n",
    "plt.xlabel('x')\n",
    "plt.ylabel('y')\n",
    "plt.legend(facecolor='white')\n",
    "plt.show()"
   ]
  },
  {
   "cell_type": "markdown",
   "id": "795cc92b",
   "metadata": {},
   "source": [
    "## Distribuições de probabilidade"
   ]
  },
  {
   "cell_type": "markdown",
   "id": "34f5ec57",
   "metadata": {},
   "source": [
    "**Uniforme:** Todo o intervalo tem a mesma probabilidade de ser observado, por tanto, dentro do intervalo a frequência será constante e fora dele será zero."
   ]
  },
  {
   "cell_type": "code",
   "execution_count": 26,
   "id": "d26bab17",
   "metadata": {},
   "outputs": [
    {
     "name": "stderr",
     "output_type": "stream",
     "text": [
      "C:\\Users\\victo\\anaconda3\\lib\\site-packages\\seaborn\\distributions.py:2619: FutureWarning: `distplot` is a deprecated function and will be removed in a future version. Please adapt your code to use either `displot` (a figure-level function with similar flexibility) or `histplot` (an axes-level function for histograms).\n",
      "  warnings.warn(msg, FutureWarning)\n"
     ]
    },
    {
     "data": {
      "text/plain": [
       "[Text(0.5, 0, 'Uniform Distribution '), Text(0, 0.5, 'Frequency')]"
      ]
     },
     "execution_count": 26,
     "metadata": {},
     "output_type": "execute_result"
    },
    {
     "data": {
      "image/png": "[encoded data removed]",
      "text/plain": [
       "<Figure size 700x500 with 1 Axes>"
      ]
     },
     "metadata": {},
     "output_type": "display_data"
    }
   ],
   "source": [
    "import seaborn as sns\n",
    "from scipy.stats import uniform\n",
    "\n",
    "n = 10000\n",
    "start = 10\n",
    "width = 20\n",
    "\n",
    "data_uniform = uniform.rvs(size=n, loc = start, scale=width)\n",
    "\n",
    "plt.figure(figsize=(7, 5), dpi = 100)\n",
    "\n",
    "ax = sns.distplot(data_uniform,\n",
    "                  bins=100,\n",
    "                  kde=True,\n",
    "                  color='skyblue',\n",
    "                  hist_kws={\"linewidth\": 15,'alpha':1})\n",
    "ax.set(xlabel='Uniform Distribution ', ylabel='Frequency')"
   ]
  },
  {
   "cell_type": "markdown",
   "id": "f25ee114",
   "metadata": {},
   "source": [
    "**Normal:** A distribuição normal possui formato de sino com média igual a 0 e desvio padrão definido. A distribuição é simétrica em relação a média."
   ]
  },
  {
   "cell_type": "code",
   "execution_count": 27,
   "id": "2566ad52",
   "metadata": {},
   "outputs": [
    {
     "name": "stderr",
     "output_type": "stream",
     "text": [
      "C:\\Users\\victo\\anaconda3\\lib\\site-packages\\seaborn\\distributions.py:2619: FutureWarning: `distplot` is a deprecated function and will be removed in a future version. Please adapt your code to use either `displot` (a figure-level function with similar flexibility) or `histplot` (an axes-level function for histograms).\n",
      "  warnings.warn(msg, FutureWarning)\n"
     ]
    },
    {
     "data": {
      "text/plain": [
       "[Text(0.5, 0, 'Normal Distribution'), Text(0, 0.5, 'Frequency')]"
      ]
     },
     "execution_count": 27,
     "metadata": {},
     "output_type": "execute_result"
    },
    {
     "data": {
      "image/png": "[encoded data removed]",
      "text/plain": [
       "<Figure size 700x500 with 1 Axes>"
      ]
     },
     "metadata": {},
     "output_type": "display_data"
    }
   ],
   "source": [
    "from scipy.stats import norm\n",
    "\n",
    "data_normal = norm.rvs(size=10000,loc=0,scale=1)\n",
    "\n",
    "plt.figure(figsize=(7, 5), dpi = 100)\n",
    "\n",
    "ax = sns.distplot(data_normal,\n",
    "                  bins=100,\n",
    "                  kde=True,\n",
    "                  color='skyblue',\n",
    "                  hist_kws={\"linewidth\": 15,'alpha':1})\n",
    "ax.set(xlabel='Normal Distribution', ylabel='Frequency')"
   ]
  },
  {
   "cell_type": "markdown",
   "id": "27f293f3",
   "metadata": {},
   "source": [
    "**Exponencial:** É uma distribuição em que os eventos ocorrem de forma contínua e independente a uma taxa constante."
   ]
  },
  {
   "cell_type": "code",
   "execution_count": 28,
   "id": "da97ac0d",
   "metadata": {
    "scrolled": false
   },
   "outputs": [
    {
     "name": "stderr",
     "output_type": "stream",
     "text": [
      "C:\\Users\\victo\\anaconda3\\lib\\site-packages\\seaborn\\distributions.py:2619: FutureWarning: `distplot` is a deprecated function and will be removed in a future version. Please adapt your code to use either `displot` (a figure-level function with similar flexibility) or `histplot` (an axes-level function for histograms).\n",
      "  warnings.warn(msg, FutureWarning)\n"
     ]
    },
    {
     "data": {
      "text/plain": [
       "[Text(0.5, 0, 'Exponential Distribution'), Text(0, 0.5, 'Frequency')]"
      ]
     },
     "execution_count": 28,
     "metadata": {},
     "output_type": "execute_result"
    },
    {
     "data": {
      "image/png": "[encoded data removed]",
      "text/plain": [
       "<Figure size 700x500 with 1 Axes>"
      ]
     },
     "metadata": {},
     "output_type": "display_data"
    }
   ],
   "source": [
    "from scipy.stats import expon\n",
    "data_expon = expon.rvs(scale=1,loc=0,size=1000)\n",
    "\n",
    "plt.figure(figsize=(7, 5), dpi = 100)\n",
    "\n",
    "ax = sns.distplot(data_expon,\n",
    "                  kde=True,\n",
    "                  bins=100,\n",
    "                  color='skyblue',\n",
    "                  hist_kws={\"linewidth\": 15,'alpha':1})\n",
    "ax.set(xlabel='Exponential Distribution', ylabel='Frequency')"
   ]
  },
  {
   "cell_type": "markdown",
   "id": "0cfa868e",
   "metadata": {},
   "source": [
    "**Poisson:** A distribuiçao de Poisson mostra a probabilidade de se observar k eventos em um intervalo, portanto, é uma distribuição de probabilidade discreta. Neste tipo de distribuição, a probabilidade de um evento acontecer é igual para todos os intervalos e o número de eventos em um intervalo independe do outro."
   ]
  },
  {
   "cell_type": "code",
   "execution_count": 29,
   "id": "6d9fcc64",
   "metadata": {},
   "outputs": [
    {
     "name": "stderr",
     "output_type": "stream",
     "text": [
      "C:\\Users\\victo\\anaconda3\\lib\\site-packages\\seaborn\\distributions.py:2619: FutureWarning: `distplot` is a deprecated function and will be removed in a future version. Please adapt your code to use either `displot` (a figure-level function with similar flexibility) or `histplot` (an axes-level function for histograms).\n",
      "  warnings.warn(msg, FutureWarning)\n"
     ]
    },
    {
     "data": {
      "text/plain": [
       "[Text(0.5, 0, 'Poisson Distribution'), Text(0, 0.5, 'Frequency')]"
      ]
     },
     "execution_count": 29,
     "metadata": {},
     "output_type": "execute_result"
    },
    {
     "data": {
      "image/png": "[encoded data removed]",
      "text/plain": [
       "<Figure size 700x500 with 1 Axes>"
      ]
     },
     "metadata": {},
     "output_type": "display_data"
    }
   ],
   "source": [
    "from scipy.stats import poisson\n",
    "data_poisson = poisson.rvs(mu=3, size=10000)\n",
    "\n",
    "plt.figure(figsize=(7, 5), dpi = 100)\n",
    "\n",
    "ax = sns.distplot(data_poisson,\n",
    "                  bins=30,\n",
    "                  kde=False,\n",
    "                  color='skyblue',\n",
    "                  hist_kws={\"linewidth\": 15,'alpha':1})\n",
    "ax.set(xlabel='Poisson Distribution', ylabel='Frequency')"
   ]
  },
  {
   "cell_type": "markdown",
   "id": "e265e6ae",
   "metadata": {},
   "source": [
    "**Binomial:** É uma distribuição onde apenas dois resultados são possíveis, sendo estes dois resultados independentes entre si e possuindo a mesma probabilidade de ocorrência."
   ]
  },
  {
   "cell_type": "code",
   "execution_count": 30,
   "id": "80fca791",
   "metadata": {},
   "outputs": [
    {
     "data": {
      "text/plain": [
       "[Text(0.5, 0, 'Binomial Distribution'), Text(0, 0.5, 'Frequency')]"
      ]
     },
     "execution_count": 30,
     "metadata": {},
     "output_type": "execute_result"
    },
    {
     "data": {
      "image/png": "[encoded data removed]",
      "text/plain": [
       "<Figure size 700x500 with 1 Axes>"
      ]
     },
     "metadata": {},
     "output_type": "display_data"
    }
   ],
   "source": [
    "from scipy.stats import binom\n",
    "data_binom = binom.rvs(n=10,p=0.8,size=10000)\n",
    "\n",
    "plt.figure(figsize=(7, 5), dpi = 100)\n",
    "\n",
    "ax = sns.distplot(data_binom,\n",
    "                  kde=False,\n",
    "                  color='skyblue',\n",
    "                  hist_kws={\"linewidth\": 15,'alpha':1})\n",
    "ax.set(xlabel='Binomial Distribution', ylabel='Frequency')"
   ]
  },
  {
   "cell_type": "markdown",
   "id": "304da770",
   "metadata": {},
   "source": [
    "**Bernoulli:** O resultado de um experimento de Bernoulli é sempre sucesso ou fracasso, então a distribuição obtém sempre valores 0 ou 1."
   ]
  },
  {
   "cell_type": "code",
   "execution_count": 31,
   "id": "534a0991",
   "metadata": {},
   "outputs": [
    {
     "data": {
      "text/plain": [
       "[Text(0.5, 0, 'Bernoulli Distribution'), Text(0, 0.5, 'Frequency')]"
      ]
     },
     "execution_count": 31,
     "metadata": {},
     "output_type": "execute_result"
    },
    {
     "data": {
      "image/png": "[encoded data removed]",
      "text/plain": [
       "<Figure size 700x500 with 1 Axes>"
      ]
     },
     "metadata": {},
     "output_type": "display_data"
    }
   ],
   "source": [
    "from scipy.stats import bernoulli\n",
    "data_bern = bernoulli.rvs(size=10000,p=0.6)\n",
    "\n",
    "plt.figure(figsize=(7, 5), dpi = 100)\n",
    "\n",
    "ax= sns.distplot(data_bern,\n",
    "                 kde=False,\n",
    "                 color=\"skyblue\",\n",
    "                 hist_kws={\"linewidth\": 15,'alpha':1})\n",
    "ax.set(xlabel='Bernoulli Distribution', ylabel='Frequency')"
   ]
  },
  {
   "cell_type": "markdown",
   "id": "d8622139",
   "metadata": {},
   "source": [
    "## Testes de Hipótese"
   ]
  },
  {
   "cell_type": "markdown",
   "id": "a5896b1c",
   "metadata": {},
   "source": [
    "O teste de hipóteses é um método que nos permite verificar se certos dados amostrais trazem evidências que confirmam ou refutam uma hipótese já formulada.\n",
    "\n",
    "**Teorema central do limite:** conforme o tamanho de uma amostra aumenta, a distribuição amostral da sua média aproxima-se cada vez mais de uma distribuição normal, independentemente da distribuição da população.\n",
    "\n",
    "**Exemplo:** O salário de um cientista de dados é 19.900? No caso, a hipótese já formulada afirma que o salário de um profissonal da ciência de dados é 19.900. Essa hipótese já formulada é o que no teste de hipótese chamamos de Hipótese Nula, H₀. Por sua vez, a hipótese que não confirma essa informação é chamada de Hipótese Alternativa, H₁. Então temos:\n",
    "* **H₀:** o salário é igual a R$19.900\n",
    "\n",
    "* **H₁:** o salário é diferente de R$19.900\n",
    "\n",
    "**P-valor:** É a probabilidade de observarmos na população um valor no mínimo tão extremo quanto o obtido na amostra, considerando que a hipótese nula é verdadeira.\n",
    "\n",
    "**Significância:** O nível de significância é uma medida de comparação do quão forte devem ser as evidências da sua amostra, para que a hipótese nula seja rejeitada.\n",
    "\n",
    "**Tipos de erro:** O **erro tipo 1** acontece quando uma hipótese nula é rejeitada quando na realidade ela é verdadeira, e o **erro tipo 2** acontece quando a hipótese nula não é rejeitada quando na realidade ela é falsa.\n",
    "\n",
    "**Tipo do teste:** A grosso modo, o teste **bicaudal** é o teste em que hipótese alternativa é ≠ e o teste **unicaudal** é quando é < ou >."
   ]
  },
  {
   "cell_type": "code",
   "execution_count": 32,
   "id": "342983c5",
   "metadata": {},
   "outputs": [
    {
     "data": {
      "text/html": [
       "<div>\n",
       "<style scoped>\n",
       "    .dataframe tbody tr th:only-of-type {\n",
       "        vertical-align: middle;\n",
       "    }\n",
       "\n",
       "    .dataframe tbody tr th {\n",
       "        vertical-align: top;\n",
       "    }\n",
       "\n",
       "    .dataframe thead th {\n",
       "        text-align: right;\n",
       "    }\n",
       "</style>\n",
       "<table border=\"1\" class=\"dataframe\">\n",
       "  <thead>\n",
       "    <tr style=\"text-align: right;\">\n",
       "      <th></th>\n",
       "      <th>('P0', 'id')</th>\n",
       "      <th>('P1', 'age')</th>\n",
       "      <th>('P2', 'gender')</th>\n",
       "      <th>('P3', 'living_in_brasil')</th>\n",
       "      <th>('P5', 'living_state')</th>\n",
       "      <th>('P6', 'born_or_graduated')</th>\n",
       "      <th>('P8', 'degreee_level')</th>\n",
       "      <th>('P10', 'job_situation')</th>\n",
       "      <th>('P12', 'workers_number')</th>\n",
       "      <th>('P13', 'manager')</th>\n",
       "      <th>...</th>\n",
       "      <th>('P34', 'other')</th>\n",
       "      <th>('P35', 'data_science_plataforms_preference')</th>\n",
       "      <th>('P35', 'other')</th>\n",
       "      <th>('P36', 'draw_participation')</th>\n",
       "      <th>('D1', 'living_macroregion')</th>\n",
       "      <th>('D2', 'origin_macroregion')</th>\n",
       "      <th>('D3', 'anonymized_degree_area')</th>\n",
       "      <th>('D4', 'anonymized_market_sector')</th>\n",
       "      <th>('D5', 'anonymized_manager_level')</th>\n",
       "      <th>('D6', 'anonymized_role')</th>\n",
       "    </tr>\n",
       "  </thead>\n",
       "  <tbody>\n",
       "    <tr>\n",
       "      <th>0</th>\n",
       "      <td>v9otv8j9wdvjrv9otvwnn9owhzq54ktv</td>\n",
       "      <td>37.0</td>\n",
       "      <td>Masculino</td>\n",
       "      <td>1</td>\n",
       "      <td>Minas Gerais (MG)</td>\n",
       "      <td>1.0</td>\n",
       "      <td>Estudante de Graduação</td>\n",
       "      <td>Empregado (CTL)</td>\n",
       "      <td>de 1 a 5</td>\n",
       "      <td>0.0</td>\n",
       "      <td>...</td>\n",
       "      <td>0</td>\n",
       "      <td>Nunca fiz cursos online</td>\n",
       "      <td>NaN</td>\n",
       "      <td>1.0</td>\n",
       "      <td>Região Sudeste</td>\n",
       "      <td>NaN</td>\n",
       "      <td>Computação / Engenharia de Software / Sistemas...</td>\n",
       "      <td>Outras</td>\n",
       "      <td>NaN</td>\n",
       "      <td>Outras</td>\n",
       "    </tr>\n",
       "    <tr>\n",
       "      <th>1</th>\n",
       "      <td>875ul998t0hqcv0871uptwf3oswcfv35</td>\n",
       "      <td>24.0</td>\n",
       "      <td>Feminino</td>\n",
       "      <td>1</td>\n",
       "      <td>São Paulo (SP)</td>\n",
       "      <td>1.0</td>\n",
       "      <td>Estudante de Graduação</td>\n",
       "      <td>Empregado (CTL)</td>\n",
       "      <td>Acima de 3000</td>\n",
       "      <td>0.0</td>\n",
       "      <td>...</td>\n",
       "      <td>1</td>\n",
       "      <td>NaN</td>\n",
       "      <td>Data Science Academy</td>\n",
       "      <td>0.0</td>\n",
       "      <td>Região Sudeste</td>\n",
       "      <td>NaN</td>\n",
       "      <td>Computação / Engenharia de Software / Sistemas...</td>\n",
       "      <td>Educação</td>\n",
       "      <td>NaN</td>\n",
       "      <td>Data Analyst/Analista de Dados</td>\n",
       "    </tr>\n",
       "    <tr>\n",
       "      <th>2</th>\n",
       "      <td>puscuk079vw1pusbb900pzw2xvpxtgdk</td>\n",
       "      <td>26.0</td>\n",
       "      <td>Masculino</td>\n",
       "      <td>1</td>\n",
       "      <td>São Paulo (SP)</td>\n",
       "      <td>1.0</td>\n",
       "      <td>Graduação/Bacharelado</td>\n",
       "      <td>Empregado (CTL)</td>\n",
       "      <td>Acima de 3000</td>\n",
       "      <td>0.0</td>\n",
       "      <td>...</td>\n",
       "      <td>0</td>\n",
       "      <td>Udemy</td>\n",
       "      <td>NaN</td>\n",
       "      <td>1.0</td>\n",
       "      <td>Região Sudeste</td>\n",
       "      <td>NaN</td>\n",
       "      <td>Outras Engenharias</td>\n",
       "      <td>Indústria (Manufatura)</td>\n",
       "      <td>NaN</td>\n",
       "      <td>Outras</td>\n",
       "    </tr>\n",
       "    <tr>\n",
       "      <th>3</th>\n",
       "      <td>rmel8ewqpbffp2mnfbzermel8eqincov</td>\n",
       "      <td>21.0</td>\n",
       "      <td>Masculino</td>\n",
       "      <td>1</td>\n",
       "      <td>São Paulo (SP)</td>\n",
       "      <td>0.0</td>\n",
       "      <td>Estudante de Graduação</td>\n",
       "      <td>Estagiário</td>\n",
       "      <td>de 11 a 50</td>\n",
       "      <td>0.0</td>\n",
       "      <td>...</td>\n",
       "      <td>0</td>\n",
       "      <td>Alura</td>\n",
       "      <td>NaN</td>\n",
       "      <td>1.0</td>\n",
       "      <td>Região Sudeste</td>\n",
       "      <td>Região Sudeste</td>\n",
       "      <td>Computação / Engenharia de Software / Sistemas...</td>\n",
       "      <td>Tecnologia/Fábrica de Software</td>\n",
       "      <td>NaN</td>\n",
       "      <td>Business Intelligence/Analista de BI</td>\n",
       "    </tr>\n",
       "    <tr>\n",
       "      <th>4</th>\n",
       "      <td>pj9mgud4d6mdct1l7vq0pj9mgu78h6ju</td>\n",
       "      <td>27.0</td>\n",
       "      <td>Masculino</td>\n",
       "      <td>1</td>\n",
       "      <td>NaN</td>\n",
       "      <td>1.0</td>\n",
       "      <td>Graduação/Bacharelado</td>\n",
       "      <td>Freelancer</td>\n",
       "      <td>de 6 a 10</td>\n",
       "      <td>1.0</td>\n",
       "      <td>...</td>\n",
       "      <td>0</td>\n",
       "      <td>Udemy</td>\n",
       "      <td>NaN</td>\n",
       "      <td>1.0</td>\n",
       "      <td>NaN</td>\n",
       "      <td>NaN</td>\n",
       "      <td>Computação / Engenharia de Software / Sistemas...</td>\n",
       "      <td>Internet/Ecommerce</td>\n",
       "      <td>C-level (CDO, CIO, CTO)</td>\n",
       "      <td>NaN</td>\n",
       "    </tr>\n",
       "  </tbody>\n",
       "</table>\n",
       "<p>5 rows × 170 columns</p>\n",
       "</div>"
      ],
      "text/plain": [
       "                       ('P0', 'id')  ('P1', 'age') ('P2', 'gender')  \\\n",
       "0  v9otv8j9wdvjrv9otvwnn9owhzq54ktv           37.0        Masculino   \n",
       "1  875ul998t0hqcv0871uptwf3oswcfv35           24.0         Feminino   \n",
       "2  puscuk079vw1pusbb900pzw2xvpxtgdk           26.0        Masculino   \n",
       "3  rmel8ewqpbffp2mnfbzermel8eqincov           21.0        Masculino   \n",
       "4  pj9mgud4d6mdct1l7vq0pj9mgu78h6ju           27.0        Masculino   \n",
       "\n",
       "   ('P3', 'living_in_brasil') ('P5', 'living_state')  \\\n",
       "0                           1      Minas Gerais (MG)   \n",
       "1                           1         São Paulo (SP)   \n",
       "2                           1         São Paulo (SP)   \n",
       "3                           1         São Paulo (SP)   \n",
       "4                           1                    NaN   \n",
       "\n",
       "   ('P6', 'born_or_graduated') ('P8', 'degreee_level')  \\\n",
       "0                          1.0  Estudante de Graduação   \n",
       "1                          1.0  Estudante de Graduação   \n",
       "2                          1.0   Graduação/Bacharelado   \n",
       "3                          0.0  Estudante de Graduação   \n",
       "4                          1.0   Graduação/Bacharelado   \n",
       "\n",
       "  ('P10', 'job_situation') ('P12', 'workers_number')  ('P13', 'manager')  ...  \\\n",
       "0          Empregado (CTL)                  de 1 a 5                 0.0  ...   \n",
       "1          Empregado (CTL)             Acima de 3000                 0.0  ...   \n",
       "2          Empregado (CTL)             Acima de 3000                 0.0  ...   \n",
       "3               Estagiário                de 11 a 50                 0.0  ...   \n",
       "4               Freelancer                 de 6 a 10                 1.0  ...   \n",
       "\n",
       "  ('P34', 'other') ('P35', 'data_science_plataforms_preference')  \\\n",
       "0                0                       Nunca fiz cursos online   \n",
       "1                1                                           NaN   \n",
       "2                0                                         Udemy   \n",
       "3                0                                         Alura   \n",
       "4                0                                         Udemy   \n",
       "\n",
       "       ('P35', 'other')  ('P36', 'draw_participation')  \\\n",
       "0                   NaN                            1.0   \n",
       "1  Data Science Academy                            0.0   \n",
       "2                   NaN                            1.0   \n",
       "3                   NaN                            1.0   \n",
       "4                   NaN                            1.0   \n",
       "\n",
       "   ('D1', 'living_macroregion')  ('D2', 'origin_macroregion')  \\\n",
       "0                Região Sudeste                           NaN   \n",
       "1                Região Sudeste                           NaN   \n",
       "2                Região Sudeste                           NaN   \n",
       "3                Região Sudeste                Região Sudeste   \n",
       "4                           NaN                           NaN   \n",
       "\n",
       "                    ('D3', 'anonymized_degree_area')  \\\n",
       "0  Computação / Engenharia de Software / Sistemas...   \n",
       "1  Computação / Engenharia de Software / Sistemas...   \n",
       "2                                 Outras Engenharias   \n",
       "3  Computação / Engenharia de Software / Sistemas...   \n",
       "4  Computação / Engenharia de Software / Sistemas...   \n",
       "\n",
       "   ('D4', 'anonymized_market_sector')  ('D5', 'anonymized_manager_level')  \\\n",
       "0                              Outras                                 NaN   \n",
       "1                            Educação                                 NaN   \n",
       "2              Indústria (Manufatura)                                 NaN   \n",
       "3      Tecnologia/Fábrica de Software                                 NaN   \n",
       "4                  Internet/Ecommerce             C-level (CDO, CIO, CTO)   \n",
       "\n",
       "              ('D6', 'anonymized_role')  \n",
       "0                                Outras  \n",
       "1        Data Analyst/Analista de Dados  \n",
       "2                                Outras  \n",
       "3  Business Intelligence/Analista de BI  \n",
       "4                                   NaN  \n",
       "\n",
       "[5 rows x 170 columns]"
      ]
     },
     "execution_count": 32,
     "metadata": {},
     "output_type": "execute_result"
    }
   ],
   "source": [
    "# link dos dados no dropbox do Marcelo Randolfo\n",
    "link = 'https://www.dropbox.com/s/4p982epvk1ib8mz/datahackers-survey-2019-anonymous-responses.csv?dl=1'\n",
    "\n",
    "# importando a base de dados\n",
    "df = pd.read_csv(link)\n",
    "\n",
    "# observando os cinco primeiros valores\n",
    "df.head()"
   ]
  },
  {
   "cell_type": "code",
   "execution_count": 33,
   "id": "a1a838fc",
   "metadata": {},
   "outputs": [
    {
     "data": {
      "text/html": [
       "<div>\n",
       "<style scoped>\n",
       "    .dataframe tbody tr th:only-of-type {\n",
       "        vertical-align: middle;\n",
       "    }\n",
       "\n",
       "    .dataframe tbody tr th {\n",
       "        vertical-align: top;\n",
       "    }\n",
       "\n",
       "    .dataframe thead th {\n",
       "        text-align: right;\n",
       "    }\n",
       "</style>\n",
       "<table border=\"1\" class=\"dataframe\">\n",
       "  <thead>\n",
       "    <tr style=\"text-align: right;\">\n",
       "      <th></th>\n",
       "      <th>Estatística</th>\n",
       "      <th>Valor</th>\n",
       "    </tr>\n",
       "  </thead>\n",
       "  <tbody>\n",
       "    <tr>\n",
       "      <th>0</th>\n",
       "      <td>count</td>\n",
       "      <td>795.00</td>\n",
       "    </tr>\n",
       "    <tr>\n",
       "      <th>1</th>\n",
       "      <td>mean</td>\n",
       "      <td>6986.16</td>\n",
       "    </tr>\n",
       "    <tr>\n",
       "      <th>2</th>\n",
       "      <td>std</td>\n",
       "      <td>5062.87</td>\n",
       "    </tr>\n",
       "    <tr>\n",
       "      <th>3</th>\n",
       "      <td>min</td>\n",
       "      <td>500.00</td>\n",
       "    </tr>\n",
       "    <tr>\n",
       "      <th>4</th>\n",
       "      <td>25%</td>\n",
       "      <td>3500.00</td>\n",
       "    </tr>\n",
       "    <tr>\n",
       "      <th>5</th>\n",
       "      <td>50%</td>\n",
       "      <td>5000.00</td>\n",
       "    </tr>\n",
       "    <tr>\n",
       "      <th>6</th>\n",
       "      <td>75%</td>\n",
       "      <td>10000.00</td>\n",
       "    </tr>\n",
       "    <tr>\n",
       "      <th>7</th>\n",
       "      <td>max</td>\n",
       "      <td>30000.00</td>\n",
       "    </tr>\n",
       "  </tbody>\n",
       "</table>\n",
       "</div>"
      ],
      "text/plain": [
       "  Estatística     Valor\n",
       "0       count    795.00\n",
       "1        mean   6986.16\n",
       "2         std   5062.87\n",
       "3         min    500.00\n",
       "4         25%   3500.00\n",
       "5         50%   5000.00\n",
       "6         75%  10000.00\n",
       "7         max  30000.00"
      ]
     },
     "execution_count": 33,
     "metadata": {},
     "output_type": "execute_result"
    }
   ],
   "source": [
    "# excluindo NA das variáveis alvo - salary_range\n",
    "df.dropna(axis = 0, subset = [\"('P16', 'salary_range')\"], inplace = True)\n",
    "\n",
    "# criando uma nova coluna com o valor médio do range de salários\n",
    "df['salario'] = df[\"('P16', 'salary_range')\"].map({'Menos de R$ 1.000/mês': 500,\n",
    "                                                         'de R$ 1.001/mês a R$ 2.000/mês': 1500, \n",
    "                                                         'de R$ 2.001/mês a R$ 3000/mês': 2500,\n",
    "                                                         'de R$ 3.001/mês a R$ 4.000/mês': 3500,\n",
    "                                                         'de R$ 4.001/mês a R$ 6.000/mês': 5000,\n",
    "                                                         'de R$ 6.001/mês a R$ 8.000/mês': 7000,\n",
    "                                                         'de R$ 8.001/mês a R$ 12.000/mês': 10000,\n",
    "                                                         'de R$ 12.001/mês a R$ 16.000/mês': 14000,\n",
    "                                                         'de R$ 16.001/mês a R$ 20.000/mês': 18000,\n",
    "                                                         'de R$ 20.001/mês a R$ 25.000/mês': 22500,\n",
    "                                                         'Acima de R$ 25.001/mês': 30000})\n",
    "\n",
    "# mantendo na amostra somente os profissionais que trabalham como cientistas de dados\n",
    "df = df[df[\"('P19', 'is_data_science_professional')\"] == 1]\n",
    "\n",
    "# obtendo as estatísticas da variável alvo\n",
    "df_describe = df['salario'].describe().round(2).reset_index()\n",
    "df_describe.columns = ['Estatística','Valor']\n",
    "df_describe"
   ]
  },
  {
   "cell_type": "code",
   "execution_count": 34,
   "id": "ece187a6",
   "metadata": {},
   "outputs": [
    {
     "name": "stdout",
     "output_type": "stream",
     "text": [
      "Estatística de teste: -71.92\n",
      "p-valor: 0.0\n"
     ]
    }
   ],
   "source": [
    "import scipy.stats as sct\n",
    "\n",
    "stat, p = sct.ttest_1samp(df['salario'], popmean=19900)\n",
    "print('Estatística de teste: {}'.format(stat.round(2)))\n",
    "print('p-valor: {}'.format(p.round(2)))"
   ]
  },
  {
   "cell_type": "markdown",
   "id": "76ad86ab",
   "metadata": {},
   "source": [
    "Pela definição do p-valor, a probabilidade de encontrar na população um valor no mínimo tão extremo quanto a média amostral, dado que a hipótese nula é verdadeidera, é igual a zero (não zero absoluto, é bem próximo de zero na verdade). Isso quer dizer que se a média salarial dos cientistas de dados fosse realmente 19.900, a chance de nós encontrarmos uma amostra de salários com média igual a 6.986,16 é praticamente zero. Isso quer dizer que nossa amostra é tão incomum que ela não pode ser real em um cenário que o salário médio de um cientista de dados é 19.900. Ou seja, a amostra fornece evidências de que a hipótese nula não é verdadeira.\n",
    "\n",
    "A \"regra de bolso\" para a análise da significância diz que:\n",
    "* Se p-valor < α: a amostra possui evidências suficientes para rejeitar a hipótese nula.\n",
    "* se p-valor > α: a amostra não possui evidências suficientes para rejeitar a hipótese nula.\n",
    "\n",
    "Como o p-valor é 0, fica abaixo de qualquer nível de significância, então podemos rejeitar a hipótese nula."
   ]
  }
 ],
 "metadata": {
  "kernelspec": {
   "display_name": "Python 3 (ipykernel)",
   "language": "python",
   "name": "python3"
  },
  "language_info": {
   "codemirror_mode": {
    "name": "ipython",
    "version": 3
   },
   "file_extension": ".py",
   "mimetype": "text/x-python",
   "name": "python",
   "nbconvert_exporter": "python",
   "pygments_lexer": "ipython3",
   "version": "3.9.7"
  }
 },
 "nbformat": 4,
 "nbformat_minor": 5
}
