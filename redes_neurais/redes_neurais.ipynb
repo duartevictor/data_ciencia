{
 "cells": [
  {
   "cell_type": "markdown",
   "id": "599abd7e",
   "metadata": {},
   "source": [
    "### conceito\n",
    "\n",
    "Resumidamente (bem resumidamente mesmo kk), uma rede neural recebe dados de entrada, os transforma por meio de combinações lineares (dando pesos e termos de viés), aplica **funções de ativação** e têm as previsões como saída. As combinações lineares da rede neural são feitas usando parâmetros que são encontrados através de um método chamado **backpropagation**, e a função de ativação diz como o output deve ser (para uma regressão linear, por exemplo, a função de ativação será uma função identidade na forma f(x) = x). Matematicamente, uma matriz [X], contendo os dados de inputs, multiplica uma matriz [W], contendo os **weights**. Em seguida, o a matriz resultante é somada ao vetor de **bias** [B] e resulta no vetor [Z], contendo os outputs que, após a aplicação da função de ativação, serão o resultado final ou os inputs para a camada seguinte.\n",
    "\n",
    "As camadas de neurônios entre o neurônio de input e o de saída são conhecidas como **hidden layers** e uma rede neural pode ter várias delas, cada uma contendo vários neurônios e, consequentemente, várias funções de ativação, wieght's e bias.\n",
    "\n",
    "O backpropagation é um método para otimizar os parâmetros dos neurônios. Calcula a derivada da função de custo com relação ao parâmetro a ser otimizado (usa regra da cadeia) e utiliza o vetor gradiente da função de custo para encontrar a direção para minimizar a função com base na derivada.\n",
    "\n",
    "O **perceptron** é a arquitetura de rede neural mais simples: a rede recebe dados de entrada, faz a soma e aplica o resultado a uma função de ativação."
   ]
  },
  {
   "cell_type": "code",
   "execution_count": 1,
   "id": "ebb94ae6",
   "metadata": {},
   "outputs": [],
   "source": [
    "import numpy as np\n",
    "from sklearn.datasets import load_iris\n",
    "from sklearn.linear_model import Perceptron"
   ]
  },
  {
   "cell_type": "code",
   "execution_count": 2,
   "id": "1909ded8",
   "metadata": {},
   "outputs": [
    {
     "name": "stderr",
     "output_type": "stream",
     "text": [
      "C:\\Users\\victo\\AppData\\Local\\Temp/ipykernel_6136/1730459720.py:8: DeprecationWarning: `np.int` is a deprecated alias for the builtin `int`. To silence this warning, use `int` by itself. Doing this will not modify any behavior and is safe. When replacing `np.int`, you may wish to use e.g. `np.int64` or `np.int32` to specify the precision. If you wish to review your current use, check the release note link for additional information.\n",
      "Deprecated in NumPy 1.20; for more details and guidance: https://numpy.org/devdocs/release/1.20.0-notes.html#deprecations\n",
      "  y = (iris.target == 0).astype(np.int)\n"
     ]
    }
   ],
   "source": [
    "# importando e separando dados\n",
    "\n",
    "iris = load_iris()\n",
    "\n",
    "X = iris.data[:, (2, 3)]\n",
    "\n",
    "# uma classe específica (setosa)\n",
    "y = (iris.target == 0).astype(np.int)"
   ]
  },
  {
   "cell_type": "code",
   "execution_count": 3,
   "id": "9e448b23",
   "metadata": {},
   "outputs": [
    {
     "data": {
      "text/plain": [
       "Perceptron(random_state=42)"
      ]
     },
     "execution_count": 3,
     "metadata": {},
     "output_type": "execute_result"
    }
   ],
   "source": [
    "# inicializando o perceptron\n",
    "\n",
    "per_clf = Perceptron(random_state = 42)\n",
    "per_clf.fit(X, y)"
   ]
  },
  {
   "cell_type": "code",
   "execution_count": 4,
   "id": "8e509129",
   "metadata": {},
   "outputs": [
    {
     "data": {
      "text/plain": [
       "array([1])"
      ]
     },
     "execution_count": 4,
     "metadata": {},
     "output_type": "execute_result"
    }
   ],
   "source": [
    "y_pred = per_clf.predict([[2, 0.5]])\n",
    "y_pred"
   ]
  }
 ],
 "metadata": {
  "kernelspec": {
   "display_name": "Python 3 (ipykernel)",
   "language": "python",
   "name": "python3"
  },
  "language_info": {
   "codemirror_mode": {
    "name": "ipython",
    "version": 3
   },
   "file_extension": ".py",
   "mimetype": "text/x-python",
   "name": "python",
   "nbconvert_exporter": "python",
   "pygments_lexer": "ipython3",
   "version": "3.9.7"
  }
 },
 "nbformat": 4,
 "nbformat_minor": 5
}
