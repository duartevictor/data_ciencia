{
 "cells": [
  {
   "cell_type": "markdown",
   "id": "364fa2d6",
   "metadata": {},
   "source": [
    "### conceito\n",
    "\n",
    "Linear Discriminant Analysis É semelhante ao PCA, mas em vez de focar em diminuir as dimensões pela variabilidade dos dados, o objetivo é maximizar a \"separabilidade\" dos dados.\n",
    "\n",
    "O LDA funciona criando um novo eixo e projetando os dados neste novo eixo, de forma que consiga captar as informações de todas as dimensões. O objetivo é criar um eixo que maximiza a distância entre as médias das categorias e minimiza a variância dentro de cada categoria."
   ]
  },
  {
   "cell_type": "code",
   "execution_count": 1,
   "id": "f78f38bb",
   "metadata": {},
   "outputs": [
    {
     "name": "stdout",
     "output_type": "stream",
     "text": [
      "(1000, 10) (1000,)\n"
     ]
    }
   ],
   "source": [
    "from sklearn.datasets import make_classification\n",
    "\n",
    "X, y = make_classification(n_samples=1000, n_features=10, n_informative=10, n_redundant=0, random_state=1)\n",
    "\n",
    "print(X.shape, y.shape)"
   ]
  },
  {
   "cell_type": "code",
   "execution_count": 2,
   "id": "9a026a1c",
   "metadata": {},
   "outputs": [
    {
     "name": "stdout",
     "output_type": "stream",
     "text": [
      "Predicted Class: [1]\n"
     ]
    }
   ],
   "source": [
    "from sklearn.discriminant_analysis import LinearDiscriminantAnalysis\n",
    "\n",
    "model = LinearDiscriminantAnalysis()\n",
    "model.fit(X, y)\n",
    "\n",
    "row = [0.12777556, -3.64400522, -2.23268854, -1.82114386, 1.75466361, 0.1243966, 1.03397657, 2.35822076, 1.01001752, 0.56768485]\n",
    "y_predicted = model.predict([row])\n",
    "\n",
    "print('Predicted Class:', y_predicted)"
   ]
  }
 ],
 "metadata": {
  "kernelspec": {
   "display_name": "Python 3 (ipykernel)",
   "language": "python",
   "name": "python3"
  },
  "language_info": {
   "codemirror_mode": {
    "name": "ipython",
    "version": 3
   },
   "file_extension": ".py",
   "mimetype": "text/x-python",
   "name": "python",
   "nbconvert_exporter": "python",
   "pygments_lexer": "ipython3",
   "version": "3.9.7"
  }
 },
 "nbformat": 4,
 "nbformat_minor": 5
}
