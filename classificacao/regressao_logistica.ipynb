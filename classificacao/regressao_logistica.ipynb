{
 "cells": [
  {
   "cell_type": "markdown",
   "id": "b93b8ab4",
   "metadata": {},
   "source": [
    "### conceito\n",
    "\n",
    "A regressão logística tenta resolver um problema de classificação, isto é, um problema onde as variáveis respostas estão previamente definidas e as saídas são categóricas. Na regressão linear o objetivo era encontrar uma reta que melhor se ajustasse aos dados, assim reduzindo o erro. Já na regressão logística o objetivo é encontrar os melhores limites de decisão, ou seja, as melhores linhas que dividem os dados de forma satisfatória.\n",
    "\n",
    "Aplicando uma função **Sigmoid** na saída da previsão, que inicialmente é categórica, chegamos em uma função de probabilidade. Assim, em vez de dar uma saída discreta (0 e 1) a regressão logística fornece uma saída em termos de probabilidade (de 0 a 1). O objetivo é prever se algo é verdadeiro ou falso.\n",
    "\n",
    "O algoritmo funciona transformando o eixo y, que vai de 0 a 1 (as probabilidades), em um eixo de log(odds), de forma que o p = 0.5 equivale ao y = 0 no novo eixo, que vai de 0 a + infinito para valores positivos e de 0 a - infinito para valores negativos. Com esse novo eixo, é possível encontrar uma reta que se ajusta aos dados usando a **Maximum Likelihood**. Neste caso, não se utiliza o método dos mínimos quadrados pois os valores estão em + e - infinito, portanto, a diferença entre o observado e a reta seria sempre + ou - infinito. Projeta-se os pontos na reta candidata, é feita a transormação de log(odds) para probabilidade e, então calcula-se a likelihood a fim de maximizá-la. "
   ]
  },
  {
   "cell_type": "code",
   "execution_count": 1,
   "id": "987974d4",
   "metadata": {},
   "outputs": [],
   "source": [
    "import pandas as pd"
   ]
  },
  {
   "cell_type": "code",
   "execution_count": 2,
   "id": "40402b04",
   "metadata": {},
   "outputs": [
    {
     "data": {
      "text/html": [
       "<div>\n",
       "<style scoped>\n",
       "    .dataframe tbody tr th:only-of-type {\n",
       "        vertical-align: middle;\n",
       "    }\n",
       "\n",
       "    .dataframe tbody tr th {\n",
       "        vertical-align: top;\n",
       "    }\n",
       "\n",
       "    .dataframe thead th {\n",
       "        text-align: right;\n",
       "    }\n",
       "</style>\n",
       "<table border=\"1\" class=\"dataframe\">\n",
       "  <thead>\n",
       "    <tr style=\"text-align: right;\">\n",
       "      <th></th>\n",
       "      <th>Gender</th>\n",
       "      <th>Height</th>\n",
       "      <th>Weight</th>\n",
       "    </tr>\n",
       "  </thead>\n",
       "  <tbody>\n",
       "    <tr>\n",
       "      <th>0</th>\n",
       "      <td>Male</td>\n",
       "      <td>73.847017</td>\n",
       "      <td>241.893563</td>\n",
       "    </tr>\n",
       "    <tr>\n",
       "      <th>1</th>\n",
       "      <td>Male</td>\n",
       "      <td>68.781904</td>\n",
       "      <td>162.310473</td>\n",
       "    </tr>\n",
       "    <tr>\n",
       "      <th>2</th>\n",
       "      <td>Male</td>\n",
       "      <td>74.110105</td>\n",
       "      <td>212.740856</td>\n",
       "    </tr>\n",
       "    <tr>\n",
       "      <th>3</th>\n",
       "      <td>Male</td>\n",
       "      <td>71.730978</td>\n",
       "      <td>220.042470</td>\n",
       "    </tr>\n",
       "    <tr>\n",
       "      <th>4</th>\n",
       "      <td>Male</td>\n",
       "      <td>69.881796</td>\n",
       "      <td>206.349801</td>\n",
       "    </tr>\n",
       "  </tbody>\n",
       "</table>\n",
       "</div>"
      ],
      "text/plain": [
       "  Gender     Height      Weight\n",
       "0   Male  73.847017  241.893563\n",
       "1   Male  68.781904  162.310473\n",
       "2   Male  74.110105  212.740856\n",
       "3   Male  71.730978  220.042470\n",
       "4   Male  69.881796  206.349801"
      ]
     },
     "execution_count": 2,
     "metadata": {},
     "output_type": "execute_result"
    }
   ],
   "source": [
    "# link dos dados\n",
    "link = 'https://raw.githubusercontent.com/johnmyleswhite/ML_for_Hackers/master/02-Exploration/data/01_heights_weights_genders.csv'\n",
    "\n",
    "# importando a base de dados\n",
    "df = pd.read_csv(link)\n",
    "df.head()"
   ]
  },
  {
   "cell_type": "code",
   "execution_count": 3,
   "id": "d5af9b10",
   "metadata": {},
   "outputs": [],
   "source": [
    "# alterando valores target para numéricos\n",
    "\n",
    "df['Gender'].replace({'Male':1, 'Female':0}, inplace = True)"
   ]
  },
  {
   "cell_type": "code",
   "execution_count": 4,
   "id": "8e91bf52",
   "metadata": {},
   "outputs": [],
   "source": [
    "# divisão entre treino e teste\n",
    "\n",
    "from sklearn.model_selection import train_test_split\n",
    "\n",
    "X = df.iloc[:, 1:3]\n",
    "y = df.iloc[:, 0]\n",
    "\n",
    "x_train, x_test, y_train, y_test = train_test_split(X, y, test_size=0.25, random_state=42)"
   ]
  },
  {
   "cell_type": "code",
   "execution_count": 5,
   "id": "6d62d881",
   "metadata": {},
   "outputs": [],
   "source": [
    "# inicializando e rodando algoritmo\n",
    "\n",
    "from sklearn.linear_model import LogisticRegression\n",
    "\n",
    "logisticRegr = LogisticRegression(C=1e40, solver='newton-cg')\n",
    "\n",
    "fitted_model = logisticRegr.fit(X, y)\n",
    "\n",
    "prediction_result = fitted_model.predict(x_test)"
   ]
  },
  {
   "cell_type": "code",
   "execution_count": 6,
   "id": "7dccbc35",
   "metadata": {},
   "outputs": [
    {
     "name": "stdout",
     "output_type": "stream",
     "text": [
      "[0.69254178]\n",
      "[[-0.49261999  0.19834042]]\n"
     ]
    }
   ],
   "source": [
    "print(fitted_model.intercept_)\n",
    "print(fitted_model.coef_ )"
   ]
  },
  {
   "cell_type": "markdown",
   "id": "83b8eaa3",
   "metadata": {},
   "source": [
    "### métricas"
   ]
  },
  {
   "cell_type": "code",
   "execution_count": 7,
   "id": "be031c13",
   "metadata": {},
   "outputs": [
    {
     "name": "stdout",
     "output_type": "stream",
     "text": [
      "0.923\n",
      "0.923\n",
      "0.931\n",
      "0.919\n",
      "0.923\n"
     ]
    }
   ],
   "source": [
    "from sklearn import metrics\n",
    "\n",
    "# roc auc é uma métrica que calcula a área sob a curva de taxa de verdadeiros positivos x taxa de falsos positivos\n",
    "print(round(metrics.roc_auc_score(y_test, prediction_result), 3))\n",
    "\n",
    "# acurácia é a quantidade de predições corretas (TP+TN)/(TP+TN+FP+FN)\n",
    "print(round(metrics.accuracy_score(y_test, prediction_result), 3))\n",
    "\n",
    "# recall é \"dos que realmente eram positivos, quanto o modelo indicou\" TP/(TP+FN)\n",
    "print(round(metrics.recall_score(y_test, prediction_result), 3))\n",
    "\n",
    "# precision é \"dos que o modelo indicou como positivo, quantos realmente eram\" TP/(TP+FP)\n",
    "print(round(metrics.precision_score(y_test, prediction_result), 3))\n",
    "\n",
    "# o f1 é uma métrica que combina o precision e o recall dando determinado peso a cada um\n",
    "print(round(metrics.f1_score(y_test, prediction_result, average = 'weighted'), 3))"
   ]
  }
 ],
 "metadata": {
  "kernelspec": {
   "display_name": "Python 3 (ipykernel)",
   "language": "python",
   "name": "python3"
  },
  "language_info": {
   "codemirror_mode": {
    "name": "ipython",
    "version": 3
   },
   "file_extension": ".py",
   "mimetype": "text/x-python",
   "name": "python",
   "nbconvert_exporter": "python",
   "pygments_lexer": "ipython3",
   "version": "3.9.7"
  }
 },
 "nbformat": 4,
 "nbformat_minor": 5
}
