{
 "cells": [
  {
   "cell_type": "markdown",
   "id": "b93b8ab4",
   "metadata": {},
   "source": [
    "### conceito\n",
    "\n",
    "A regressão logística tenta resolver um problema de classificação, isto é, um problema onde as variáveis respostas estão previamente definidas e as saídas são categóricas. Na regressão linear o objetivo era encontrar uma reta que melhor se ajustasse aos dados, assim reduzindo o erro, já na regressão logística o objetivo é encontrar os melhores limites de decisão, ou seja, as melhores linhas que dividem os dados de forma satisfatória.\n",
    "\n",
    "Aplicando uma função **Sigmoid** na saída da previsão, que inicialmente é categórica, chegamos em uma função de probabilidade. Assim, em vez de dar uma saída discreta (0 e 1) a regressão logística fornece uma saída em termos de probabilidade (de 0 a 1)."
   ]
  },
  {
   "cell_type": "code",
   "execution_count": null,
   "id": "40402b04",
   "metadata": {},
   "outputs": [],
   "source": []
  }
 ],
 "metadata": {
  "kernelspec": {
   "display_name": "Python 3 (ipykernel)",
   "language": "python",
   "name": "python3"
  },
  "language_info": {
   "codemirror_mode": {
    "name": "ipython",
    "version": 3
   },
   "file_extension": ".py",
   "mimetype": "text/x-python",
   "name": "python",
   "nbconvert_exporter": "python",
   "pygments_lexer": "ipython3",
   "version": "3.9.7"
  }
 },
 "nbformat": 4,
 "nbformat_minor": 5
}
